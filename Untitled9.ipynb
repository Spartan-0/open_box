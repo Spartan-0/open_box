{
 "cells": [
  {
   "cell_type": "code",
   "execution_count": 2,
   "id": "198c8e93",
   "metadata": {},
   "outputs": [
    {
     "name": "stdout",
     "output_type": "stream",
     "text": [
      "Collecting PyMuPDF\n",
      "  Obtaining dependency information for PyMuPDF from https://files.pythonhosted.org/packages/08/c2/d80164320803368545752149eb24c9056b9b46728d6e0a72adfd65e08d1a/PyMuPDF-1.23.5-cp311-none-macosx_10_9_x86_64.whl.metadata\n",
      "  Downloading PyMuPDF-1.23.5-cp311-none-macosx_10_9_x86_64.whl.metadata (3.4 kB)\n",
      "Collecting PyMuPDFb==1.23.5 (from PyMuPDF)\n",
      "  Obtaining dependency information for PyMuPDFb==1.23.5 from https://files.pythonhosted.org/packages/28/2c/d3b7c257e1e698de971f64e826865e73633da1390b6b72c6a8d5f347fa4d/PyMuPDFb-1.23.5-py3-none-macosx_10_9_x86_64.whl.metadata\n",
      "  Downloading PyMuPDFb-1.23.5-py3-none-macosx_10_9_x86_64.whl.metadata (1.3 kB)\n",
      "Downloading PyMuPDF-1.23.5-cp311-none-macosx_10_9_x86_64.whl (4.1 MB)\n",
      "\u001b[2K   \u001b[90m━━━━━━━━━━━━━━━━━━━━━━━━━━━━━━━━━━━━━━━━\u001b[0m \u001b[32m4.1/4.1 MB\u001b[0m \u001b[31m9.9 MB/s\u001b[0m eta \u001b[36m0:00:00\u001b[0m:00:01\u001b[0m00:01\u001b[0m\n",
      "\u001b[?25hDownloading PyMuPDFb-1.23.5-py3-none-macosx_10_9_x86_64.whl (30.1 MB)\n",
      "\u001b[2K   \u001b[90m━━━━━━━━━━━━━━━━━━━━━━━━━━━━━━━━━━━━━━━━\u001b[0m \u001b[32m30.1/30.1 MB\u001b[0m \u001b[31m24.4 MB/s\u001b[0m eta \u001b[36m0:00:00\u001b[0m00:01\u001b[0m00:01\u001b[0m\n",
      "\u001b[?25hInstalling collected packages: PyMuPDFb, PyMuPDF\n",
      "Successfully installed PyMuPDF-1.23.5 PyMuPDFb-1.23.5\n",
      "Note: you may need to restart the kernel to use updated packages.\n"
     ]
    }
   ],
   "source": [
    "pip install PyMuPDF"
   ]
  },
  {
   "cell_type": "code",
   "execution_count": 1,
   "id": "19d1c5ab",
   "metadata": {},
   "outputs": [
    {
     "ename": "AttributeError",
     "evalue": "'Page' object has no attribute 'get_pixmap_list'",
     "output_type": "error",
     "traceback": [
      "\u001b[0;31m---------------------------------------------------------------------------\u001b[0m",
      "\u001b[0;31mAttributeError\u001b[0m                            Traceback (most recent call last)",
      "Cell \u001b[0;32mIn[1], line 12\u001b[0m\n\u001b[1;32m     10\u001b[0m     page \u001b[38;5;241m=\u001b[39m doc\u001b[38;5;241m.\u001b[39mload_page(page_num)\n\u001b[1;32m     11\u001b[0m     text_data\u001b[38;5;241m.\u001b[39mappend(page\u001b[38;5;241m.\u001b[39mget_text())\n\u001b[0;32m---> 12\u001b[0m     image_list \u001b[38;5;241m=\u001b[39m page\u001b[38;5;241m.\u001b[39mget_pixmap_list()\n\u001b[1;32m     13\u001b[0m     image_data\u001b[38;5;241m.\u001b[39mextend(image_list)\n\u001b[1;32m     15\u001b[0m doc\u001b[38;5;241m.\u001b[39mclose()\n",
      "\u001b[0;31mAttributeError\u001b[0m: 'Page' object has no attribute 'get_pixmap_list'"
     ]
    }
   ],
   "source": [
    "import fitz  # PyMuPDF\n",
    "\n",
    "pdf_file = \"CSMVol2_PaxService.pdf\"\n",
    "doc = fitz.open(pdf_file)\n",
    "\n",
    "text_data = []\n",
    "image_data = []\n",
    "\n",
    "for page_num in range(doc.page_count):\n",
    "    page = doc.load_page(page_num)\n",
    "    text_data.append(page.get_text())\n",
    "    image_list = page.get_pixmap_list()\n",
    "    image_data.extend(image_list)\n",
    "\n",
    "doc.close()\n"
   ]
  },
  {
   "cell_type": "code",
   "execution_count": 2,
   "id": "ad78f398",
   "metadata": {},
   "outputs": [
    {
     "name": "stdout",
     "output_type": "stream",
     "text": [
      "\u001b[31mERROR: Could not find a version that satisfies the requirement PIL (from versions: none)\u001b[0m\u001b[31m\n",
      "\u001b[0m\u001b[31mERROR: No matching distribution found for PIL\u001b[0m\u001b[31m\n",
      "\u001b[0mNote: you may need to restart the kernel to use updated packages.\n"
     ]
    }
   ],
   "source": [
    "pip install PIL"
   ]
  },
  {
   "cell_type": "code",
   "execution_count": 3,
   "id": "7c49e5ec",
   "metadata": {},
   "outputs": [],
   "source": [
    "import fitz  # PyMuPDF\n",
    "from PIL import Image\n",
    "import io\n",
    "\n",
    "pdf_file = \"CSMVol2_PaxService.pdf\"\n",
    "doc = fitz.open(pdf_file)\n",
    "\n",
    "image_data = []\n",
    "\n",
    "for page_num in range(doc.page_count):\n",
    "    page = doc.load_page(page_num)\n",
    "    \n",
    "    # Extract images from the page\n",
    "    img_list = page.get_images(full=True)\n",
    "    \n",
    "    for img_index, img in enumerate(img_list):\n",
    "        xref = img[0]\n",
    "        base_image = doc.extract_image(xref)\n",
    "        image_data.append(base_image[\"image\"])\n",
    "        \n",
    "# Now you have a list of image data (bytes) in the \"image_data\" variable\n",
    "# You can store these bytes in a blob or convert them to PIL images if needed\n",
    "\n",
    "doc.close()\n"
   ]
  },
  {
   "cell_type": "code",
   "execution_count": null,
   "id": "68da6db1",
   "metadata": {},
   "outputs": [],
   "source": [
    "import pandas as pd\n",
    "import io\n",
    "from azure.storage.blob import BlobServiceClient\n",
    "\n",
    "# Replace with your actual connection string\n",
    "azure_connection_string = \"DefaultEndpointsProtocol=https;AccountName=storageaccountgenai;AccountKey=WAfyL4uqWgarFdx1ibNgWv9lmOINODLuN6nnLSQLgE/iuHhKGi1pYd6NQJ6LBnZO/DnnQfhbNSWi+AStsOLf1Q==;EndpointSuffix=core.windows.net\"\n",
    "\n",
    "# Replace with your container name\n",
    "container_name = \"etq-databricks-sync\"\n",
    "\n",
    "try:\n",
    "    # Connect to Azure Blob Storage\n",
    "    blob_service_client = BlobServiceClient.from_connection_string(azure_connection_string)\n",
    "    container_client = blob_service_client.get_container_client(container_name)\n",
    "\n",
    "    # List all blobs in the container\n",
    "    blobs = container_client.list_blobs()\n",
    "\n",
    "    # Create an empty list to store DataFrame objects\n",
    "    dfs = {}\n",
    "\n",
    "    # Loop through the blobs and process those that match the prefix\n",
    "    for blob in blobs:\n",
    "        if blob.name.startswith(\"etq-data\"):\n",
    "            # Extract file name and bid name\n",
    "            file_name = str(blob.name).split(\"/\")[1]\n",
    "            bid_name = str(blob.name).split(\"/\")[1].split(\".\")[0].lower().replace(\" \", \"_\").replace(\"_\", \"-\")\n",
    "\n",
    "            # Get the blob client for reading the blob data\n",
    "            blob_client = container_client.get_blob_client(blob.name)\n",
    "            print(blob.name)\n",
    "\n",
    "            # Download the blob data as a stream\n",
    "            blob_data = blob_client.download_blob()\n",
    "\n",
    "            # Read the stream as a string and then into a Pandas DataFrame\n",
    "            blob_text = blob_data.readall().decode('utf-8')\n",
    "            df = pd.read_csv(io.StringIO(blob_text))\n",
    "\n",
    "            # Append the DataFrame to the list\n",
    "            dfs[file_name] = df\n",
    "\n",
    "    # Now you can work with the list of DataFrames (dfs) as needed\n",
    "    print(dfs.keys())\n",
    "\n",
    "except Exception as e:\n",
    "    print(f'Error: {str(e)}')\n"
   ]
  },
  {
   "cell_type": "code",
   "execution_count": null,
   "id": "e0438ad7",
   "metadata": {},
   "outputs": [],
   "source": [
    "pip install camelot"
   ]
  },
  {
   "cell_type": "code",
   "execution_count": null,
   "id": "6cb2c1d5",
   "metadata": {},
   "outputs": [],
   "source": [
    "# Example: Use Camelot for table extraction\n",
    "import camelot\n",
    "\n",
    "tables = camelot.read_pdf(\"your_pdf.pdf\")\n",
    "table_data = []\n",
    "for table in tables:\n",
    "    table_data.append(table.df)\n"
   ]
  }
 ],
 "metadata": {
  "kernelspec": {
   "display_name": "Python 3 (ipykernel)",
   "language": "python",
   "name": "python3"
  },
  "language_info": {
   "codemirror_mode": {
    "name": "ipython",
    "version": 3
   },
   "file_extension": ".py",
   "mimetype": "text/x-python",
   "name": "python",
   "nbconvert_exporter": "python",
   "pygments_lexer": "ipython3",
   "version": "3.11.4"
  }
 },
 "nbformat": 4,
 "nbformat_minor": 5
}
