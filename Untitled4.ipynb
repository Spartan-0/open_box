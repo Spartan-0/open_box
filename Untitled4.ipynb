{
 "cells": [
  {
   "cell_type": "code",
   "execution_count": 2,
   "id": "a0078c54",
   "metadata": {},
   "outputs": [
    {
     "name": "stdout",
     "output_type": "stream",
     "text": [
      "etq-data/vw-ETQ-Events-fast\n",
      "Error: initial_value must be str or None, not bytes\n"
     ]
    }
   ],
   "source": [
    "import pandas as pd\n",
    "import io\n",
    "from azure.storage.blob import BlobServiceClient\n",
    "\n",
    "# Azure Blob Storage connection details\n",
    "azure_connection_string = 'DefaultEndpointsProtocol=https;AccountName=storageaccountgenai;AccountKey=EpSmEO4gxUQ641r3F1RzbrkYBW3XedK2GH/OD9mmZzaybMZ4yPdn1LPyr4XaoUYwTisX22VP2UJ2+AStIj1mjQ==;EndpointSuffix=core.windows.net'\n",
    "\n",
    "# Replace with your container name\n",
    "container_name = \"etq-databricks-sync\"\n",
    "\n",
    "try:\n",
    "    # Connect to Azure Blob Storage\n",
    "    blob_service_client = BlobServiceClient.from_connection_string(azure_connection_string)\n",
    "    container_client = blob_service_client.get_container_client(container_name)\n",
    "\n",
    "    # List all blobs in the container\n",
    "    blobs = container_client.list_blobs()\n",
    "\n",
    "    # Create an empty list to store DataFrame objects\n",
    "    dfs = {}\n",
    "\n",
    "    # Loop through the blobs and process those that match the prefix\n",
    "    for blob in blobs:\n",
    "        if blob.name.startswith(\"etq-data\"):\n",
    "            # Extract file name and bid name\n",
    "            file_name = str(blob.name).split(\"/\")[1]\n",
    "            bid_name = str(blob.name).split(\"/\")[1].split(\".\")[0].lower().replace(\" \", \"_\").replace(\"_\", \"-\")\n",
    "\n",
    "            # Get the blob client for reading the blob data\n",
    "            blob_client = container_client.get_blob_client(blob.name)\n",
    "            print(blob.name)\n",
    "\n",
    "            # Download the blob data as a stream\n",
    "            blob_data = blob_client.download_blob()\n",
    "\n",
    "            # Read the stream as a string and then into a Pandas DataFrame\n",
    "            blob_text = blob_data.readall()\n",
    "            #df = pd.read_csv(io.StringIO(blob_text), on_bad_lines='skip')\n",
    "            df = pd.read_csv(io.StringIO(blob_text), sep='\\t')\n",
    "            \n",
    "            \n",
    "            # Append the DataFrame to the list\n",
    "            dfs[file_name] = df\n",
    "\n",
    "    # Now you can work with the list of DataFrames (dfs) as needed\n",
    "    print(dfs.keys())\n",
    "\n",
    "except Exception as e:\n",
    "    print(f'Error: {str(e)}')\n"
   ]
  },
  {
   "cell_type": "code",
   "execution_count": null,
   "id": "c03228c4",
   "metadata": {},
   "outputs": [],
   "source": []
  }
 ],
 "metadata": {
  "kernelspec": {
   "display_name": "Python 3 (ipykernel)",
   "language": "python",
   "name": "python3"
  },
  "language_info": {
   "codemirror_mode": {
    "name": "ipython",
    "version": 3
   },
   "file_extension": ".py",
   "mimetype": "text/x-python",
   "name": "python",
   "nbconvert_exporter": "python",
   "pygments_lexer": "ipython3",
   "version": "3.11.4"
  }
 },
 "nbformat": 4,
 "nbformat_minor": 5
}
