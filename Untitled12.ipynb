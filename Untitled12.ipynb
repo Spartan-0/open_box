{
 "cells": [
  {
   "cell_type": "code",
   "execution_count": 1,
   "id": "105f336c",
   "metadata": {},
   "outputs": [
    {
     "ename": "Error",
     "evalue": "('01000', \"[01000] [unixODBC][Driver Manager]Can't open lib 'ODBC Driver 17 for SQL Server' : file not found (0) (SQLDriverConnect)\")",
     "output_type": "error",
     "traceback": [
      "\u001b[0;31m---------------------------------------------------------------------------\u001b[0m",
      "\u001b[0;31mError\u001b[0m                                     Traceback (most recent call last)",
      "Cell \u001b[0;32mIn[1], line 30\u001b[0m\n\u001b[1;32m     28\u001b[0m \u001b[38;5;66;03m# Connect to SQL Server\u001b[39;00m\n\u001b[1;32m     29\u001b[0m sql_server_conn_str \u001b[38;5;241m=\u001b[39m \u001b[38;5;124mf\u001b[39m\u001b[38;5;124m'\u001b[39m\u001b[38;5;124mDRIVER=\u001b[39m\u001b[38;5;130;01m{{\u001b[39;00m\u001b[38;5;124mODBC Driver 17 for SQL Server\u001b[39m\u001b[38;5;130;01m}}\u001b[39;00m\u001b[38;5;124m;SERVER=\u001b[39m\u001b[38;5;132;01m{\u001b[39;00msql_server_host\u001b[38;5;132;01m}\u001b[39;00m\u001b[38;5;124m;DATABASE=\u001b[39m\u001b[38;5;132;01m{\u001b[39;00msql_server_database\u001b[38;5;132;01m}\u001b[39;00m\u001b[38;5;124m;UID=\u001b[39m\u001b[38;5;132;01m{\u001b[39;00msql_server_user\u001b[38;5;132;01m}\u001b[39;00m\u001b[38;5;124m;PWD=\u001b[39m\u001b[38;5;132;01m{\u001b[39;00msql_server_password\u001b[38;5;132;01m}\u001b[39;00m\u001b[38;5;124m'\u001b[39m\n\u001b[0;32m---> 30\u001b[0m sql_server_conn \u001b[38;5;241m=\u001b[39m pyodbc\u001b[38;5;241m.\u001b[39mconnect(sql_server_conn_str)\n\u001b[1;32m     32\u001b[0m \u001b[38;5;66;03m# Connect to PostgreSQL\u001b[39;00m\n\u001b[1;32m     33\u001b[0m pg_conn_str \u001b[38;5;241m=\u001b[39m \u001b[38;5;124mf\u001b[39m\u001b[38;5;124m'\u001b[39m\u001b[38;5;124mhost=\u001b[39m\u001b[38;5;132;01m{\u001b[39;00mpg_host\u001b[38;5;132;01m}\u001b[39;00m\u001b[38;5;124m port=\u001b[39m\u001b[38;5;132;01m{\u001b[39;00mpg_port\u001b[38;5;132;01m}\u001b[39;00m\u001b[38;5;124m dbname=\u001b[39m\u001b[38;5;132;01m{\u001b[39;00mpg_database\u001b[38;5;132;01m}\u001b[39;00m\u001b[38;5;124m user=\u001b[39m\u001b[38;5;132;01m{\u001b[39;00mpg_user\u001b[38;5;132;01m}\u001b[39;00m\u001b[38;5;124m password=\u001b[39m\u001b[38;5;132;01m{\u001b[39;00mpg_password\u001b[38;5;132;01m}\u001b[39;00m\u001b[38;5;124m'\u001b[39m\n",
      "\u001b[0;31mError\u001b[0m: ('01000', \"[01000] [unixODBC][Driver Manager]Can't open lib 'ODBC Driver 17 for SQL Server' : file not found (0) (SQLDriverConnect)\")"
     ]
    }
   ],
   "source": [
    "import pyodbc\n",
    "import psycopg2\n",
    "\n",
    "# SQL Server database connection parameters\n",
    "#sql_server_host = 'your_sql_server_host'\n",
    "#sql_server_database = 'your_sql_server_db'\n",
    "#sql_server_user = 'your_sql_server_user'\n",
    "#sql_server_password = 'your_sql_server_password'\n",
    "#Safety.dbo.vw_ETQ_Events_fast\n",
    "#Safety.dbo.vw_ReportIt_AllReport_fast\n",
    "sql_server_table = 'Safety.dbo.vw_ETQ_Events_fast'  # The table you want to copy\n",
    "# SQL Server connection details\n",
    "sql_server_host = 'ORA_Safety.sql.insideaag.com,1450'\n",
    "sql_server_database = 'Safety'\n",
    "sql_server_user = 'SafetyME'\n",
    "sql_server_password = 'Shakennotstirred1!'\n",
    "#driver = '{ODBC Driver 17 for SQL Server}'\n",
    "#connection_string = f'DRIVER={driver};SERVER={server};DATABASE={database};UID={username};PWD={password}'\n",
    "\n",
    "# PostgreSQL database connection parameters\n",
    "pg_host = 'pg-gen-ai-dev-db.postgres.database.azure.com'\n",
    "pg_port = '5432'  # Change this to your PostgreSQL port if different\n",
    "pg_database = 'postgres'\n",
    "pg_user = 'pgadmin'\n",
    "pg_password = '#GenAI-POC-23='\n",
    "pg_table = 'Test_vw_ETQ_Events_fast'  # The name of the new PostgreSQL table\n",
    "\n",
    "# Connect to SQL Server\n",
    "sql_server_conn_str = f'DRIVER={{ODBC Driver 17 for SQL Server}};SERVER={sql_server_host};DATABASE={sql_server_database};UID={sql_server_user};PWD={sql_server_password}'\n",
    "sql_server_conn = pyodbc.connect(sql_server_conn_str)\n",
    "\n",
    "# Connect to PostgreSQL\n",
    "pg_conn_str = f'host={pg_host} port={pg_port} dbname={pg_database} user={pg_user} password={pg_password}'\n",
    "pg_conn = psycopg2.connect(pg_conn_str)\n",
    "pg_cursor = pg_conn.cursor()\n",
    "\n",
    "# Get table schema from SQL Server\n",
    "sql_server_cursor = sql_server_conn.cursor()\n",
    "sql_server_query = f\"SELECT * FROM {sql_server_table}\"\n",
    "sql_server_cursor.execute(sql_server_query)"
   ]
  },
  {
   "cell_type": "code",
   "execution_count": null,
   "id": "a718667b",
   "metadata": {},
   "outputs": [],
   "source": []
  }
 ],
 "metadata": {
  "kernelspec": {
   "display_name": "Python 3 (ipykernel)",
   "language": "python",
   "name": "python3"
  },
  "language_info": {
   "codemirror_mode": {
    "name": "ipython",
    "version": 3
   },
   "file_extension": ".py",
   "mimetype": "text/x-python",
   "name": "python",
   "nbconvert_exporter": "python",
   "pygments_lexer": "ipython3",
   "version": "3.11.4"
  }
 },
 "nbformat": 4,
 "nbformat_minor": 5
}
