{
 "cells": [
  {
   "cell_type": "code",
   "execution_count": null,
   "id": "15f55a2b",
   "metadata": {},
   "outputs": [],
   "source": [
    "import pyodbc\n",
    "import psycopg2\n",
    "\n",
    "# SQL Server database connection parameters\n",
    "sql_server_host = 'your_sql_server_host'\n",
    "sql_server_database = 'your_sql_server_db'\n",
    "sql_server_user = 'your_sql_server_user'\n",
    "sql_server_password = 'your_sql_server_password'\n",
    "\n",
    "# PostgreSQL database connection parameters\n",
    "pg_host = 'your_postgresql_host'\n",
    "pg_port = '5432'  # Change this to your PostgreSQL port if different\n",
    "pg_database = 'your_postgresql_db'\n",
    "pg_user = 'your_postgresql_user'\n",
    "pg_password = 'your_postgresql_password'\n",
    "\n",
    "# Connect to SQL Server\n",
    "sql_server_conn_str = f'DRIVER={{ODBC Driver 17 for SQL Server}};SERVER={sql_server_host};DATABASE={sql_server_database};UID={sql_server_user};PWD={sql_server_password}'\n",
    "sql_server_conn = pyodbc.connect(sql_server_conn_str)\n",
    "\n",
    "# Connect to PostgreSQL\n",
    "pg_conn_str = f'host={pg_host} port={pg_port} dbname={pg_database} user={pg_user} password={pg_password}'\n",
    "pg_conn = psycopg2.connect(pg_conn_str)\n",
    "pg_cursor = pg_conn.cursor()\n",
    "\n",
    "# Query data from SQL Server\n",
    "sql_server_cursor = sql_server_conn.cursor()\n",
    "sql_server_query = \"SELECT * FROM your_sql_server_table\"\n",
    "sql_server_cursor.execute(sql_server_query)\n",
    "\n",
    "# Fetch and insert data into PostgreSQL\n",
    "for row in sql_server_cursor:\n",
    "    # You can modify the data transformation and column mapping here\n",
    "    # Assuming a direct mapping in this example\n",
    "    pg_cursor.execute(\"INSERT INTO your_postgresql_table (column1, column2, column3) VALUES (%s, %s, %s)\", row)\n",
    "\n",
    "# Commit the changes to PostgreSQL\n",
    "pg_conn.commit()\n",
    "\n",
    "# Close the connections\n",
    "sql_server_cursor.close()\n",
    "sql_server_conn.close()\n",
    "pg_cursor.close()\n",
    "pg_conn.close()\n"
   ]
  }
 ],
 "metadata": {
  "kernelspec": {
   "display_name": "Python 3 (ipykernel)",
   "language": "python",
   "name": "python3"
  },
  "language_info": {
   "codemirror_mode": {
    "name": "ipython",
    "version": 3
   },
   "file_extension": ".py",
   "mimetype": "text/x-python",
   "name": "python",
   "nbconvert_exporter": "python",
   "pygments_lexer": "ipython3",
   "version": "3.11.4"
  }
 },
 "nbformat": 4,
 "nbformat_minor": 5
}
