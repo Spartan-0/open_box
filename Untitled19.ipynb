{
 "cells": [
  {
   "cell_type": "code",
   "execution_count": 1,
   "id": "5b1b2c23",
   "metadata": {},
   "outputs": [
    {
     "name": "stdout",
     "output_type": "stream",
     "text": [
      "Requirement already satisfied: pdfplumber in ./anaconda3/lib/python3.11/site-packages (0.10.3)\n",
      "Requirement already satisfied: pdfminer.six==20221105 in ./anaconda3/lib/python3.11/site-packages (from pdfplumber) (20221105)\n",
      "Requirement already satisfied: Pillow>=9.1 in ./anaconda3/lib/python3.11/site-packages (from pdfplumber) (9.4.0)\n",
      "Requirement already satisfied: pypdfium2>=4.18.0 in ./anaconda3/lib/python3.11/site-packages (from pdfplumber) (4.23.1)\n",
      "Requirement already satisfied: charset-normalizer>=2.0.0 in ./anaconda3/lib/python3.11/site-packages (from pdfminer.six==20221105->pdfplumber) (2.0.4)\n",
      "Requirement already satisfied: cryptography>=36.0.0 in ./anaconda3/lib/python3.11/site-packages (from pdfminer.six==20221105->pdfplumber) (41.0.2)\n",
      "Requirement already satisfied: cffi>=1.12 in ./anaconda3/lib/python3.11/site-packages (from cryptography>=36.0.0->pdfminer.six==20221105->pdfplumber) (1.15.1)\n",
      "Requirement already satisfied: pycparser in ./anaconda3/lib/python3.11/site-packages (from cffi>=1.12->cryptography>=36.0.0->pdfminer.six==20221105->pdfplumber) (2.21)\n",
      "Note: you may need to restart the kernel to use updated packages.\n"
     ]
    }
   ],
   "source": [
    "pip install pdfplumber\n",
    "pip install pypdf"
   ]
  },
  {
   "cell_type": "code",
   "execution_count": 2,
   "id": "7c31dd64",
   "metadata": {},
   "outputs": [
    {
     "name": "stdout",
     "output_type": "stream",
     "text": [
      "Requirement already satisfied: pypdf in ./anaconda3/lib/python3.11/site-packages (3.15.4)\n",
      "Note: you may need to restart the kernel to use updated packages.\n"
     ]
    }
   ],
   "source": [
    "pip install pypdf"
   ]
  },
  {
   "cell_type": "code",
   "execution_count": 1,
   "id": "9f540cf1",
   "metadata": {},
   "outputs": [],
   "source": [
    "import pdfplumber\n",
    "import pandas as pd\n",
    "from pypdf import PdfReader"
   ]
  },
  {
   "cell_type": "code",
   "execution_count": null,
   "id": "5ed621eb",
   "metadata": {},
   "outputs": [],
   "source": [
    "#cleasing of data\n",
    "def extract_text_n_tables(pdf_file):\n",
    "    with pdfplumber.open(pdf_file) as pdf:\n",
    "        all_data = []\n",
    "        for page in pdf.pages:\n",
    "            text = page.extract_text()\n",
    "            tables = page.extract_tables()\n",
    "            if text:\n",
    "                ts = {\n",
    "                    \"vertical_strategy\": \"lines\",\n",
    "                    \"horizontal_strategy\": \"lines\",\n",
    "                }\n",
    "                bboxes = [table.bbox for table in page.find_tables(table_settings=ts)]\n",
    "                def not_within_bbox(obj):\n",
    "                    def obj_in_bbox(_bbox):\n",
    "                        v_mid =(obj[\"top\"]+obj[\"bottom\"])/2"
   ]
  }
 ],
 "metadata": {
  "kernelspec": {
   "display_name": "Python 3 (ipykernel)",
   "language": "python",
   "name": "python3"
  },
  "language_info": {
   "codemirror_mode": {
    "name": "ipython",
    "version": 3
   },
   "file_extension": ".py",
   "mimetype": "text/x-python",
   "name": "python",
   "nbconvert_exporter": "python",
   "pygments_lexer": "ipython3",
   "version": "3.11.4"
  }
 },
 "nbformat": 4,
 "nbformat_minor": 5
}
