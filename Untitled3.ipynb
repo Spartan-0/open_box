{
 "cells": [
  {
   "cell_type": "code",
   "execution_count": 1,
   "id": "4763a430",
   "metadata": {},
   "outputs": [
    {
     "name": "stdout",
     "output_type": "stream",
     "text": [
      "Collecting psycopg2\n",
      "  Downloading psycopg2-2.9.9.tar.gz (384 kB)\n",
      "\u001b[2K     \u001b[90m━━━━━━━━━━━━━━━━━━━━━━━━━━━━━━━━━━━━━━━\u001b[0m \u001b[32m384.9/384.9 kB\u001b[0m \u001b[31m3.6 MB/s\u001b[0m eta \u001b[36m0:00:00\u001b[0ma \u001b[36m0:00:01\u001b[0m\n",
      "\u001b[?25h  Preparing metadata (setup.py) ... \u001b[?25ldone\n",
      "\u001b[?25hBuilding wheels for collected packages: psycopg2\n",
      "  Building wheel for psycopg2 (setup.py) ... \u001b[?25ldone\n",
      "\u001b[?25h  Created wheel for psycopg2: filename=psycopg2-2.9.9-cp311-cp311-macosx_10_9_x86_64.whl size=133944 sha256=7a71e058ba6b429da5027fc4f4e8d43768ec389788fe9a8cbd98cc9ccd8b1a20\n",
      "  Stored in directory: /Users/mohanakrishna.pamidimukkala/Library/Caches/pip/wheels/ab/34/b9/78ebef1b3220b4840ee482461e738566c3c9165d2b5c914f51\n",
      "Successfully built psycopg2\n",
      "Installing collected packages: psycopg2\n",
      "Successfully installed psycopg2-2.9.9\n",
      "Note: you may need to restart the kernel to use updated packages.\n"
     ]
    }
   ],
   "source": [
    "pip install psycopg2"
   ]
  },
  {
   "cell_type": "code",
   "execution_count": 2,
   "id": "26d0005e",
   "metadata": {},
   "outputs": [],
   "source": [
    "import os  \n",
    "import json  \n",
    "import openai  \n",
    "from tenacity import retry, wait_random_exponential, stop_after_attempt  \n",
    "from azure.core.credentials import AzureKeyCredential  \n",
    "from azure.search.documents import SearchClient  \n",
    "from azure.search.documents.indexes import SearchIndexClient  \n",
    "from azure.search.documents.models import Vector  \n",
    "from azure.search.documents.indexes.models import (  \n",
    "    SearchIndex,  \n",
    "    SearchField,  \n",
    "    SearchFieldDataType,  \n",
    "    SimpleField,  \n",
    "    SearchableField,  \n",
    "    SearchIndex,  \n",
    "    SemanticConfiguration,  \n",
    "    PrioritizedFields,  \n",
    "    SemanticField,  \n",
    "    SemanticSettings,  \n",
    "    VectorSearch, \n",
    "    HnswVectorSearchAlgorithmConfiguration,  \n",
    ")  "
   ]
  },
  {
   "cell_type": "code",
   "execution_count": 3,
   "id": "a4a08c52",
   "metadata": {},
   "outputs": [],
   "source": [
    "#load_dotenv()  \n",
    "service_endpoint = os.getenv(\"AZURE_SEARCH_SERVICE_ENDPOINT\") \n",
    "index_name = os.getenv(\"AZURE_SEARCH_INDEX_NAME\") \n",
    "key = os.getenv(\"AZURE_SEARCH_ADMIN_KEY\") \n",
    "openai.api_type = \"azure\"  \n",
    "openai.api_key = os.getenv(\"AZURE_OPENAI_API_KEY\")  \n",
    "openai.api_base = os.getenv(\"AZURE_OPENAI_ENDPOINT\")  \n",
    "openai.api_version = os.getenv(\"AZURE_OPENAI_API_VERSION\")  \n",
    "credential = AzureKeyCredential(\"jA50VnyT0OAeuHpY0RxJGz7z9kfrmdj7YF5PHYiPXjAzSeBS6hJg\")\n",
    "os.environ[\"OPENAI_API_TYPE\"] = \"azure\"\n",
    "os.environ[\"OPENAI_API_BASE\"] = \"https://testingchat.openai.azure.com/\"\n",
    "os.environ[\"OPENAI_API_KEY\"] = \"e8143eabb02541259054426630db12a7\"\n",
    "os.environ[\"OPENAI_API_VERSION\"] = \"2023-05-15\"\n",
    "model: str = \"text-embedding-ada-002\"\n",
    "#pdf_file_name = \"Alaska Airlines and Horizon Air SMS Manual.pdf\"     \n",
    "\n",
    "AZURE_SEARCH_SERVICE_ENDPOINT = \"https://genaisafety.search.windows.net\"\n",
    "AZURE_SEARCH_ADMIN_KEY = \"jA50VnyT0OAeuHpY0RxJGz7z9kfrmdj7YF5PHYiPXjAzSeBS6hJg\""
   ]
  },
  {
   "cell_type": "code",
   "execution_count": 5,
   "id": "a5e44f48",
   "metadata": {},
   "outputs": [
    {
     "ename": "ValueError",
     "evalue": "Connection string is either blank or malformed.",
     "output_type": "error",
     "traceback": [
      "\u001b[0;31m---------------------------------------------------------------------------\u001b[0m",
      "\u001b[0;31mValueError\u001b[0m                                Traceback (most recent call last)",
      "Cell \u001b[0;32mIn[5], line 19\u001b[0m\n\u001b[1;32m     15\u001b[0m pg_password \u001b[38;5;241m=\u001b[39m \u001b[38;5;124m'\u001b[39m\u001b[38;5;124m#GenAI-POC-23=\u001b[39m\u001b[38;5;124m'\u001b[39m\n\u001b[1;32m     18\u001b[0m \u001b[38;5;66;03m# Download the blob from Azure Blob Storage to a local file\u001b[39;00m\n\u001b[0;32m---> 19\u001b[0m blob_service_client \u001b[38;5;241m=\u001b[39m BlobServiceClient\u001b[38;5;241m.\u001b[39mfrom_connection_string(azure_connection_string)\n\u001b[1;32m     20\u001b[0m container_client \u001b[38;5;241m=\u001b[39m blob_service_client\u001b[38;5;241m.\u001b[39mget_container_client(container_name)\n\u001b[1;32m     21\u001b[0m blob_client \u001b[38;5;241m=\u001b[39m container_client\u001b[38;5;241m.\u001b[39mget_blob_client(blob_name)\n",
      "File \u001b[0;32m~/anaconda3/lib/python3.11/site-packages/azure/storage/blob/_blob_service_client.py:179\u001b[0m, in \u001b[0;36mBlobServiceClient.from_connection_string\u001b[0;34m(cls, conn_str, credential, **kwargs)\u001b[0m\n\u001b[1;32m    148\u001b[0m \u001b[38;5;129m@classmethod\u001b[39m\n\u001b[1;32m    149\u001b[0m \u001b[38;5;28;01mdef\u001b[39;00m \u001b[38;5;21mfrom_connection_string\u001b[39m(\n\u001b[1;32m    150\u001b[0m         \u001b[38;5;28mcls\u001b[39m, conn_str: \u001b[38;5;28mstr\u001b[39m,\n\u001b[1;32m    151\u001b[0m         credential: Optional[Union[\u001b[38;5;28mstr\u001b[39m, Dict[\u001b[38;5;28mstr\u001b[39m, \u001b[38;5;28mstr\u001b[39m], \u001b[38;5;124m\"\u001b[39m\u001b[38;5;124mAzureNamedKeyCredential\u001b[39m\u001b[38;5;124m\"\u001b[39m, \u001b[38;5;124m\"\u001b[39m\u001b[38;5;124mAzureSasCredential\u001b[39m\u001b[38;5;124m\"\u001b[39m, \u001b[38;5;124m\"\u001b[39m\u001b[38;5;124mTokenCredential\u001b[39m\u001b[38;5;124m\"\u001b[39m]] \u001b[38;5;241m=\u001b[39m \u001b[38;5;28;01mNone\u001b[39;00m,  \u001b[38;5;66;03m# pylint: disable=line-too-long\u001b[39;00m\n\u001b[1;32m    152\u001b[0m         \u001b[38;5;241m*\u001b[39m\u001b[38;5;241m*\u001b[39mkwargs: Any\n\u001b[1;32m    153\u001b[0m     ) \u001b[38;5;241m-\u001b[39m\u001b[38;5;241m>\u001b[39m Self:\n\u001b[1;32m    154\u001b[0m \u001b[38;5;250m    \u001b[39m\u001b[38;5;124;03m\"\"\"Create BlobServiceClient from a Connection String.\u001b[39;00m\n\u001b[1;32m    155\u001b[0m \n\u001b[1;32m    156\u001b[0m \u001b[38;5;124;03m    :param str conn_str:\u001b[39;00m\n\u001b[0;32m   (...)\u001b[0m\n\u001b[1;32m    177\u001b[0m \u001b[38;5;124;03m            :caption: Creating the BlobServiceClient from a connection string.\u001b[39;00m\n\u001b[1;32m    178\u001b[0m \u001b[38;5;124;03m    \"\"\"\u001b[39;00m\n\u001b[0;32m--> 179\u001b[0m     account_url, secondary, credential \u001b[38;5;241m=\u001b[39m parse_connection_str(conn_str, credential, \u001b[38;5;124m'\u001b[39m\u001b[38;5;124mblob\u001b[39m\u001b[38;5;124m'\u001b[39m)\n\u001b[1;32m    180\u001b[0m     \u001b[38;5;28;01mif\u001b[39;00m \u001b[38;5;124m'\u001b[39m\u001b[38;5;124msecondary_hostname\u001b[39m\u001b[38;5;124m'\u001b[39m \u001b[38;5;129;01mnot\u001b[39;00m \u001b[38;5;129;01min\u001b[39;00m kwargs:\n\u001b[1;32m    181\u001b[0m         kwargs[\u001b[38;5;124m'\u001b[39m\u001b[38;5;124msecondary_hostname\u001b[39m\u001b[38;5;124m'\u001b[39m] \u001b[38;5;241m=\u001b[39m secondary\n",
      "File \u001b[0;32m~/anaconda3/lib/python3.11/site-packages/azure/storage/blob/_shared/base_client.py:364\u001b[0m, in \u001b[0;36mparse_connection_str\u001b[0;34m(conn_str, credential, service)\u001b[0m\n\u001b[1;32m    362\u001b[0m conn_settings \u001b[38;5;241m=\u001b[39m [s\u001b[38;5;241m.\u001b[39msplit(\u001b[38;5;124m\"\u001b[39m\u001b[38;5;124m=\u001b[39m\u001b[38;5;124m\"\u001b[39m, \u001b[38;5;241m1\u001b[39m) \u001b[38;5;28;01mfor\u001b[39;00m s \u001b[38;5;129;01min\u001b[39;00m conn_str\u001b[38;5;241m.\u001b[39msplit(\u001b[38;5;124m\"\u001b[39m\u001b[38;5;124m;\u001b[39m\u001b[38;5;124m\"\u001b[39m)]\n\u001b[1;32m    363\u001b[0m \u001b[38;5;28;01mif\u001b[39;00m \u001b[38;5;28many\u001b[39m(\u001b[38;5;28mlen\u001b[39m(tup) \u001b[38;5;241m!=\u001b[39m \u001b[38;5;241m2\u001b[39m \u001b[38;5;28;01mfor\u001b[39;00m tup \u001b[38;5;129;01min\u001b[39;00m conn_settings):\n\u001b[0;32m--> 364\u001b[0m     \u001b[38;5;28;01mraise\u001b[39;00m \u001b[38;5;167;01mValueError\u001b[39;00m(\u001b[38;5;124m\"\u001b[39m\u001b[38;5;124mConnection string is either blank or malformed.\u001b[39m\u001b[38;5;124m\"\u001b[39m)\n\u001b[1;32m    365\u001b[0m conn_settings \u001b[38;5;241m=\u001b[39m \u001b[38;5;28mdict\u001b[39m((key\u001b[38;5;241m.\u001b[39mupper(), val) \u001b[38;5;28;01mfor\u001b[39;00m key, val \u001b[38;5;129;01min\u001b[39;00m conn_settings)\n\u001b[1;32m    366\u001b[0m endpoints \u001b[38;5;241m=\u001b[39m _SERVICE_PARAMS[service]\n",
      "\u001b[0;31mValueError\u001b[0m: Connection string is either blank or malformed."
     ]
    }
   ],
   "source": [
    "import os\n",
    "from azure.storage.blob import BlobServiceClient, BlobClient, ContainerClient\n",
    "import psycopg2\n",
    "\n",
    "# Azure Blob Storage credentials\n",
    "azure_connection_string = \"https://storageaccountgenai.blob.core.windows.net/etq-databricks-sync/etq-data/vw-ETQ-Events-fast-new\"\n",
    "container_name = \"etq-databricks-sync\"\n",
    "blob_name = \"etq-data\"\n",
    "local_file_path = \"vw-ETQ-Events-fast-new.blob\"\n",
    "# PostgreSQL database credentials\n",
    "pg_host = \"pg-gen-ai-dev-db.postgres.database.azure.com\"\n",
    "pg_port = 5432\n",
    "pg_database = \"postgres\"\n",
    "pg_user = \"pgadmin\"\n",
    "pg_password = '#GenAI-POC-23='\n",
    "\n",
    "\n",
    "# Download the blob from Azure Blob Storage to a local file\n",
    "blob_service_client = BlobServiceClient.from_connection_string(azure_connection_string)\n",
    "container_client = blob_service_client.get_container_client(container_name)\n",
    "blob_client = container_client.get_blob_client(blob_name)\n",
    "\n",
    "with open(local_file_path, \"wb\") as local_file:\n",
    "    download_stream = blob_client.download_blob()\n",
    "    local_file.write(download_stream.readall())\n",
    "\n",
    "# Load data from the local file into PostgreSQL\n",
    "connection_string = f\"host={pg_host} port={pg_port} dbname={pg_database} user={pg_user} password={pg_password}\"\n",
    "conn = psycopg2.connect(connection_string)\n",
    "cur = conn.cursor()\n",
    "\n",
    "with open(local_file_path, \"r\") as f:\n",
    "    cur.copy_expert(\"COPY your_table_name FROM stdin CSV HEADER\", f)\n",
    "\n",
    "conn.commit()\n",
    "cur.close()\n",
    "conn.close()\n",
    "\n",
    "# Clean up: Remove the local file if needed\n",
    "os.remove(local_file_path)\n"
   ]
  },
  {
   "cell_type": "code",
   "execution_count": null,
   "id": "2c3046fc",
   "metadata": {},
   "outputs": [],
   "source": []
  }
 ],
 "metadata": {
  "kernelspec": {
   "display_name": "Python 3 (ipykernel)",
   "language": "python",
   "name": "python3"
  },
  "language_info": {
   "codemirror_mode": {
    "name": "ipython",
    "version": 3
   },
   "file_extension": ".py",
   "mimetype": "text/x-python",
   "name": "python",
   "nbconvert_exporter": "python",
   "pygments_lexer": "ipython3",
   "version": "3.11.4"
  }
 },
 "nbformat": 4,
 "nbformat_minor": 5
}
