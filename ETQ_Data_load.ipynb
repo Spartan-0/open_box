{
 "cells": [
  {
   "cell_type": "code",
   "execution_count": 1,
   "id": "52933588",
   "metadata": {},
   "outputs": [
    {
     "name": "stdout",
     "output_type": "stream",
     "text": [
      "Error: ('01000', \"[01000] [unixODBC][Driver Manager]Can't open lib 'ODBC Driver 17 for SQL Server' : file not found (0) (SQLDriverConnect)\")\n"
     ]
    }
   ],
   "source": [
    "import pyodbc\n",
    "import pandas as pd\n",
    "from azure.storage.blob import BlobServiceClient, BlobClient, ContainerClient\n",
    "\n",
    "# SQL Server connection details\n",
    "server = 'ORA_Safety.sql.insideaag.com,1450'\n",
    "database = 'Safety'\n",
    "username = 'SafetyME'\n",
    "password = 'Shakennotstirred1!'\n",
    "driver = '{ODBC Driver 17 for SQL Server}'\n",
    "connection_string = f'DRIVER={driver};SERVER={server};DATABASE={database};UID={username};PWD={password}'\n",
    "\n",
    "# Azure Blob Storage connection details\n",
    "azure_connection_string = 'DefaultEndpointsProtocol=https;AccountName=storageaccountgenai;AccountKey=WAfyL4uqWgarFdx1ibNgWv9lmOINODLuN6nnLSQLgE/iuHhKGi1pYd6NQJ6LBnZO/DnnQfhbNSWi+AStsOLf1Q==;EndpointSuffix=core.windows.net'\n",
    "container_name = 'safety/etq-data'\n",
    "blob_name = 'vw_ReportIt_AllReport_fast'\n",
    "\n",
    "# SQL Query to select data from the table\n",
    "sql_query = 'SELECT * FROM Safety.dbo.vw_ReportIt_AllReport_fast'\n",
    "\n",
    "# Connect to SQL Server and retrieve data as a Pandas DataFrame\n",
    "try:\n",
    "    conn = pyodbc.connect(connection_string)\n",
    "\n",
    "    # Read data from SQL Server directly into a Pandas DataFrame\n",
    "    df = pd.read_sql(sql_query, conn)\n",
    "\n",
    "    # Close the SQL Server connection\n",
    "    conn.close()\n",
    "\n",
    "    # Connect to Azure Blob Storage\n",
    "    blob_service_client = BlobServiceClient.from_connection_string(azure_connection_string)\n",
    "    container_client = blob_service_client.get_container_client(container_name)\n",
    "\n",
    "    # Convert the DataFrame to CSV format\n",
    "    df_csv = df.to_csv(index=False)\n",
    "\n",
    "    # Upload the CSV data as a blob\n",
    "    blob_client = container_client.get_blob_client(blob_name)\n",
    "    blob_client.upload_blob(df_csv, overwrite=True)\n",
    "\n",
    "    print(f'Data uploaded to blob: {blob_name}')\n",
    "\n",
    "except Exception as e:\n",
    "    print(f'Error: {str(e)}')\n"
   ]
  },
  {
   "cell_type": "code",
   "execution_count": 2,
   "id": "1a52457d",
   "metadata": {},
   "outputs": [
    {
     "name": "stdout",
     "output_type": "stream",
     "text": [
      "Error: ('01000', \"[01000] [unixODBC][Driver Manager]Can't open lib 'ODBC Driver 17 for SQL Server' : file not found (0) (SQLDriverConnect)\")\n"
     ]
    }
   ],
   "source": [
    "import pyodbc\n",
    "from azure.storage.blob import BlobServiceClient, BlobClient, ContainerClient\n",
    "\n",
    "# SQL Server connection details\n",
    "server = 'ORA_Safety.sql.insideaag.com,1450'\n",
    "database = 'Safety'\n",
    "username = 'SafetyME'\n",
    "password = 'Shakennotstirred1!'\n",
    "driver = '{ODBC Driver 17 for SQL Server}'\n",
    "connection_string = f'DRIVER={driver};SERVER={server};DATABASE={database};UID={username};PWD={password}'\n",
    "\n",
    "# Azure Blob Storage connection details\n",
    "azure_connection_string = 'DefaultEndpointsProtocol=https;AccountName=storageaccountgenai;AccountKey=WAfyL4uqWgarFdx1ibNgWv9lmOINODLuN6nnLSQLgE/iuHhKGi1pYd6NQJ6LBnZO/DnnQfhbNSWi+AStsOLf1Q==;EndpointSuffix=core.windows.net'\n",
    "container_name = 'safety'\n",
    "blob_name = 'etq-data'\n",
    "\n",
    "# SQL Query to select data from the table\n",
    "sql_query = 'SELECT top 1000 * FROM Safety.dbo.vw_ETQ_Events_fast'  # Modify this query as needed\n",
    "\n",
    "# Connect to SQL Server and retrieve data\n",
    "try:\n",
    "    conn = pyodbc.connect(connection_string)\n",
    "    cursor = conn.cursor()\n",
    "\n",
    "    cursor.execute(sql_query)\n",
    "\n",
    "    # Fetch data from SQL Server\n",
    "    data = [row[0] for row in cursor.fetchall()]  # Assuming you have a single column; adjust index as needed\n",
    "\n",
    "    # Close the SQL Server connection\n",
    "    conn.close()\n",
    "\n",
    "    # Connect to Azure Blob Storage\n",
    "    blob_service_client = BlobServiceClient.from_connection_string(azure_connection_string)\n",
    "    container_client = blob_service_client.get_container_client(container_name)\n",
    "\n",
    "    # Convert data to bytes\n",
    "    data_bytes_list = [str(item).encode() for item in data]\n",
    "\n",
    "    # Join the bytes together using a delimiter (e.g., newline character)\n",
    "    data_bytes = b'\\n'.join(data_bytes_list)\n",
    "\n",
    "    # Upload data as a blob\n",
    "    blob_client = container_client.get_blob_client(blob_name)\n",
    "    blob_client.upload_blob(data_bytes, overwrite=True)\n",
    "\n",
    "    print(f'Data uploaded to blob: {blob_name}')\n",
    "\n",
    "except Exception as e:\n",
    "    print(f'Error: {str(e)}')\n"
   ]
  },
  {
   "cell_type": "code",
   "execution_count": null,
   "id": "643b8d29",
   "metadata": {},
   "outputs": [],
   "source": []
  }
 ],
 "metadata": {
  "kernelspec": {
   "display_name": "Python 3 (ipykernel)",
   "language": "python",
   "name": "python3"
  },
  "language_info": {
   "codemirror_mode": {
    "name": "ipython",
    "version": 3
   },
   "file_extension": ".py",
   "mimetype": "text/x-python",
   "name": "python",
   "nbconvert_exporter": "python",
   "pygments_lexer": "ipython3",
   "version": "3.11.4"
  }
 },
 "nbformat": 4,
 "nbformat_minor": 5
}
