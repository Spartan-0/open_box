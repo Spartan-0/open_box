{
 "cells": [
  {
   "cell_type": "code",
   "execution_count": 1,
   "id": "fa2a1e64",
   "metadata": {},
   "outputs": [
    {
     "name": "stdout",
     "output_type": "stream",
     "text": [
      "Requirement already satisfied: azure-search-documents in ./anaconda3/lib/python3.11/site-packages (11.4.0b8)\n",
      "Requirement already satisfied: azure-core<2.0.0,>=1.24.0 in ./anaconda3/lib/python3.11/site-packages (from azure-search-documents) (1.29.3)\n",
      "Requirement already satisfied: azure-common~=1.1 in ./anaconda3/lib/python3.11/site-packages (from azure-search-documents) (1.1.28)\n",
      "Requirement already satisfied: isodate>=0.6.0 in ./anaconda3/lib/python3.11/site-packages (from azure-search-documents) (0.6.1)\n",
      "Requirement already satisfied: requests>=2.18.4 in ./anaconda3/lib/python3.11/site-packages (from azure-core<2.0.0,>=1.24.0->azure-search-documents) (2.31.0)\n",
      "Requirement already satisfied: six>=1.11.0 in ./anaconda3/lib/python3.11/site-packages (from azure-core<2.0.0,>=1.24.0->azure-search-documents) (1.16.0)\n",
      "Requirement already satisfied: typing-extensions>=4.6.0 in ./anaconda3/lib/python3.11/site-packages (from azure-core<2.0.0,>=1.24.0->azure-search-documents) (4.7.1)\n",
      "Requirement already satisfied: charset-normalizer<4,>=2 in ./anaconda3/lib/python3.11/site-packages (from requests>=2.18.4->azure-core<2.0.0,>=1.24.0->azure-search-documents) (2.0.4)\n",
      "Requirement already satisfied: idna<4,>=2.5 in ./anaconda3/lib/python3.11/site-packages (from requests>=2.18.4->azure-core<2.0.0,>=1.24.0->azure-search-documents) (3.4)\n",
      "Requirement already satisfied: urllib3<3,>=1.21.1 in ./anaconda3/lib/python3.11/site-packages (from requests>=2.18.4->azure-core<2.0.0,>=1.24.0->azure-search-documents) (1.26.16)\n",
      "Requirement already satisfied: certifi>=2017.4.17 in ./anaconda3/lib/python3.11/site-packages (from requests>=2.18.4->azure-core<2.0.0,>=1.24.0->azure-search-documents) (2023.7.22)\n",
      "Requirement already satisfied: openai in ./anaconda3/lib/python3.11/site-packages (0.27.9)\n",
      "Requirement already satisfied: requests>=2.20 in ./anaconda3/lib/python3.11/site-packages (from openai) (2.31.0)\n",
      "Requirement already satisfied: tqdm in ./anaconda3/lib/python3.11/site-packages (from openai) (4.65.0)\n",
      "Requirement already satisfied: aiohttp in ./anaconda3/lib/python3.11/site-packages (from openai) (3.8.3)\n",
      "Requirement already satisfied: charset-normalizer<4,>=2 in ./anaconda3/lib/python3.11/site-packages (from requests>=2.20->openai) (2.0.4)\n",
      "Requirement already satisfied: idna<4,>=2.5 in ./anaconda3/lib/python3.11/site-packages (from requests>=2.20->openai) (3.4)\n",
      "Requirement already satisfied: urllib3<3,>=1.21.1 in ./anaconda3/lib/python3.11/site-packages (from requests>=2.20->openai) (1.26.16)\n",
      "Requirement already satisfied: certifi>=2017.4.17 in ./anaconda3/lib/python3.11/site-packages (from requests>=2.20->openai) (2023.7.22)\n",
      "Requirement already satisfied: attrs>=17.3.0 in ./anaconda3/lib/python3.11/site-packages (from aiohttp->openai) (22.1.0)\n",
      "Requirement already satisfied: multidict<7.0,>=4.5 in ./anaconda3/lib/python3.11/site-packages (from aiohttp->openai) (6.0.2)\n",
      "Requirement already satisfied: async-timeout<5.0,>=4.0.0a3 in ./anaconda3/lib/python3.11/site-packages (from aiohttp->openai) (4.0.2)\n",
      "Requirement already satisfied: yarl<2.0,>=1.0 in ./anaconda3/lib/python3.11/site-packages (from aiohttp->openai) (1.8.1)\n",
      "Requirement already satisfied: frozenlist>=1.1.1 in ./anaconda3/lib/python3.11/site-packages (from aiohttp->openai) (1.3.3)\n",
      "Requirement already satisfied: aiosignal>=1.1.2 in ./anaconda3/lib/python3.11/site-packages (from aiohttp->openai) (1.2.0)\n",
      "Requirement already satisfied: python-dotenv in ./anaconda3/lib/python3.11/site-packages (1.0.0)\n"
     ]
    }
   ],
   "source": [
    "! pip install azure-search-documents --pre\n",
    "! pip install openai\n",
    "! pip install python-dotenv"
   ]
  },
  {
   "cell_type": "code",
   "execution_count": 2,
   "id": "306c1da1",
   "metadata": {},
   "outputs": [],
   "source": [
    "# Import required libraries  \n",
    "import os  \n",
    "import json  \n",
    "import openai  \n",
    "from dotenv import load_dotenv  \n",
    "from tenacity import retry, wait_random_exponential, stop_after_attempt  \n",
    "from azure.core.credentials import AzureKeyCredential  \n",
    "from azure.search.documents import SearchClient  \n",
    "from azure.search.documents.indexes import SearchIndexClient  \n",
    "from azure.search.documents.models import Vector  \n",
    "from azure.search.documents.indexes.models import (  \n",
    "    SearchIndex,  \n",
    "    SearchField,  \n",
    "    SearchFieldDataType,  \n",
    "    SimpleField,  \n",
    "    SearchableField,  \n",
    "    SearchIndex,  \n",
    "    SemanticConfiguration,  \n",
    "    PrioritizedFields,  \n",
    "    SemanticField,  \n",
    "    SearchField,  \n",
    "    SemanticSettings,  \n",
    "    VectorSearch,  \n",
    "    HnswVectorSearchAlgorithmConfiguration, \n",
    ")  \n",
    "\n",
    "from langchain.document_loaders import AzureBlobStorageContainerLoader\n",
    "#from dotenv import load_dotenv\n",
    "\n",
    "from langchain.vectorstores.azuresearch import AzureSearch\n",
    "from langchain.document_loaders import AzureBlobStorageContainerLoader\n",
    "from langchain.text_splitter import CharacterTextSplitter\n",
    "from azure.storage.blob import BlobServiceClient\n",
    "import tempfile\n",
    "from langchain.document_loaders import PyPDFLoader\n",
    "\n",
    "from langchain.embeddings.openai import OpenAIEmbeddings\n",
    "  \n",
    "# Configure environment variables  \n",
    "load_dotenv()  \n",
    "service_endpoint = os.getenv(\"AZURE_SEARCH_SERVICE_ENDPOINT\") \n",
    "index_name = os.getenv(\"AZURE_SEARCH_INDEX_NAME\") \n",
    "key = os.getenv(\"AZURE_SEARCH_ADMIN_KEY\") \n",
    "openai.api_type = \"azure\"  \n",
    "openai.api_key = os.getenv(\"AZURE_OPENAI_API_KEY\")  \n",
    "openai.api_base = os.getenv(\"AZURE_OPENAI_ENDPOINT\")  \n",
    "openai.api_version = os.getenv(\"AZURE_OPENAI_API_VERSION\")  \n",
    "credential = AzureKeyCredential(\"jA50VnyT0OAeuHpY0RxJGz7z9kfrmdj7YF5PHYiPXjAzSeBS6hJg\")"
   ]
  },
  {
   "cell_type": "code",
   "execution_count": 3,
   "id": "dcf52b75",
   "metadata": {},
   "outputs": [],
   "source": [
    "os.environ[\"OPENAI_API_TYPE\"] = \"azure\"\n",
    "os.environ[\"OPENAI_API_BASE\"] = \"https://testingchat.openai.azure.com/\"\n",
    "os.environ[\"OPENAI_API_KEY\"] = \"e8143eabb02541259054426630db12a7\"\n",
    "os.environ[\"OPENAI_API_VERSION\"] = \"2023-05-15\"\n",
    "model: str = \"text-embedding-ada-002\"\n",
    "pdf_file_name = \"Alaska Airlines and Horizon Air SMS Manual.pdf\"   \n",
    "#e8143eabb02541259054426630db12a7    \n",
    "\n",
    "#vector_store_address: str = \"https://genaisafety.search.windows.net\"\n",
    "#vector_store_password: str = \"iDXpfwNsnwyN88dYUlj3c0TaXP76z1DlWlSxZ9QmPxAzSeAu7ppU\"\n",
    "\n",
    "AZURE_SEARCH_SERVICE_ENDPOINT = \"https://genaisafety.search.windows.net\"\n",
    "AZURE_SEARCH_ADMIN_KEY = \"jA50VnyT0OAeuHpY0RxJGz7z9kfrmdj7YF5PHYiPXjAzSeBS6hJg\"\n",
    "\n",
    "#Creating Serach index\n",
    "\n",
    "AZURE_SEARCH_INDEX_NAME = str(pdf_file_name.split(\".\")[0].lower().replace(\" \",\"-\") + \"-index\")"
   ]
  },
  {
   "cell_type": "code",
   "execution_count": 4,
   "id": "a6b009cc",
   "metadata": {},
   "outputs": [],
   "source": [
    "#pip install --upgrade azure-search-documents\n",
    "embeddings = OpenAIEmbeddings(deployment = model,chunk_size=1) \n",
    "vector_store: AzureSearch = AzureSearch(\n",
    "    azure_search_endpoint=AZURE_SEARCH_SERVICE_ENDPOINT,\n",
    "    azure_search_key=AZURE_SEARCH_ADMIN_KEY,\n",
    "    index_name = AZURE_SEARCH_INDEX_NAME,\n",
    "    embedding_function=embeddings.embed_query,\n",
    ")"
   ]
  },
  {
   "cell_type": "code",
   "execution_count": 5,
   "id": "e3ceb0aa",
   "metadata": {},
   "outputs": [
    {
     "data": {
      "text/plain": [
       "'alaska-airlines-and-horizon-air-sms-manual-index'"
      ]
     },
     "execution_count": 5,
     "metadata": {},
     "output_type": "execute_result"
    }
   ],
   "source": [
    "AZURE_SEARCH_INDEX_NAME"
   ]
  },
  {
   "cell_type": "code",
   "execution_count": 6,
   "id": "9f7ee72b",
   "metadata": {},
   "outputs": [],
   "source": [
    "def pdf_text_extraction(pdf_file_path):\n",
    "    if pdf_file_path is not None:\n",
    "        # Open the PDF file and read its contents\n",
    "        with open(pdf_file_path, 'rb') as pdf_file:\n",
    "            # Create a temporary file to write the PDF contents\n",
    "            with tempfile.NamedTemporaryFile(delete=False) as tmp_file:\n",
    "                tmp_file.write(pdf_file.read())\n",
    "                pdf_path = tmp_file.name\n",
    "\n",
    "        # Now you can use the PyPDFLoader on the temporary PDF file\n",
    "        loader = PyPDFLoader(pdf_path)\n",
    "        pages_split = loader.load_and_split()\n",
    "    return pages_split"
   ]
  },
  {
   "cell_type": "code",
   "execution_count": null,
   "id": "583203b7",
   "metadata": {},
   "outputs": [],
   "source": [
    "from azure.identity import DefaultAzureCredential\n",
    "#from azure.search.documents.indexes import SearchServiceClient\n",
    "from azure.search.documents import SearchServiceClient\n",
    "#from azure.search.documents.indexes.models import SearchFieldDataType, VectorSearch, HnswVectorSearchAlgorithmConfiguration\n",
    "\n",
    "# Azure Cognitive Search service endpoint and admin API key\n",
    "service_endpoint = AZURE_SEARCH_SERVICE_ENDPOINT\n",
    "admin_key = AZURE_SEARCH_ADMIN_KEY\n",
    "\n",
    "# Create a SearchServiceClient\n",
    "credential = DefaultAzureCredential()\n",
    "search_service_client = SearchServiceClient(endpoint=service_endpoint, credential=credential)\n",
    "\n",
    "# Define your vector search algorithm configuration\n",
    "vector_search_config = HnswVectorSearchAlgorithmConfiguration(\n",
    "    name=\"my-vector-config\",\n",
    "    kind=\"hnsw\",\n",
    "    parameters={\n",
    "        \"m\": 32,  # Customize these parameters as needed\n",
    "        \"efConstruction\": 200,\n",
    "        \"efSearch\": 300,\n",
    "        \"metric\": \"cosine\"\n",
    "    }\n",
    ")\n",
    "\n",
    "\n",
    "\n",
    "\n",
    "\n",
    "# Create the vector search algorithm configuration\n",
    "search_service_client.create_or_update_indexer(skillsetName=\"my-vector-config\", indexerName=\"my-vector-config\", skillset=vector_search_config)\n",
    "\n",
    "print(\"Vector search configuration 'my-vector-config' created successfully.\")\n"
   ]
  },
  {
   "cell_type": "code",
   "execution_count": 27,
   "id": "694f1eea",
   "metadata": {},
   "outputs": [
    {
     "name": "stdout",
     "output_type": "stream",
     "text": [
      "manuals/AAG_Safety_Manual.pdf\n",
      "AAG_Safety_Manual.pdf\n",
      "PDF file downloaded successfully.\n",
      "PDF_NAME, length manuals/AAG_Safety_Manual.pdf 332\n",
      "splitted into 332 documents\n",
      "aag-safety-manual-index\n",
      "Vector store added successfully\n",
      "manuals/Alaska Airlines and Horizon Air SMS Manual.pdf\n",
      "Alaska Airlines and Horizon Air SMS Manual.pdf\n",
      "PDF file downloaded successfully.\n",
      "PDF_NAME, length manuals/Alaska Airlines and Horizon Air SMS Manual.pdf 125\n",
      "splitted into 125 documents\n",
      "alaska-airlines-and-horizon-air-sms-manual-index\n",
      "Vector store added successfully\n"
     ]
    }
   ],
   "source": [
    "# Replace with your actual connection string\n",
    "connection_string = \"DefaultEndpointsProtocol=https;AccountName=storageaccountgenai;AccountKey=WAfyL4uqWgarFdx1ibNgWv9lmOINODLuN6nnLSQLgE/iuHhKGi1pYd6NQJ6LBnZO/DnnQfhbNSWi+AStsOLf1Q==;EndpointSuffix=core.windows.net\"\n",
    "\n",
    "# Replace with your container name\n",
    "container_name = \"safety\"\n",
    "\n",
    "\n",
    "# Create a BlobServiceClient using the connection string\n",
    "blob_service_client = BlobServiceClient.from_connection_string(connection_string)\n",
    "\n",
    "# Get a reference to the container\n",
    "container_client = blob_service_client.get_container_client(container_name)\n",
    "\n",
    "embeddings = OpenAIEmbeddings(deployment = model,chunk_size=1)\n",
    "\n",
    "# List blobs in the container\n",
    "blobs = container_client.list_blobs()\n",
    "dict_data = []\n",
    "for blob in blobs:\n",
    "    #print(blob)\n",
    "    if blob.name.startswith(\"manuals\") and blob.name.endswith(\".pdf\"):  # Check if the blob is a PDF file\n",
    "        blob_client = container_client.get_blob_client(blob)\n",
    "        print(blob.name)\n",
    "        try:\n",
    "            pdf_files = blob_client.download_blob().readall()\n",
    "                # Save the blob content to a local PDF file or process it as needed\n",
    "            pdf_name = blob.name.split('/')[1]\n",
    "            print(pdf_name)\n",
    "            with open(pdf_name, \"wb\") as pdf_file:\n",
    "                pdf_file.write(pdf_files)\n",
    "                print(\"PDF file downloaded successfully.\")\n",
    "        except Exception as e:\n",
    "             print(f\"An error occurred: {e}\")       \n",
    "            \n",
    "        \n",
    "        #pdf_name=str(blob.name).split(\".\")[0]\n",
    "        #pdf_name = \"AAG_Safety_Manual.pdf\"\n",
    "        pdf_file_name=str(blob.name).split(\"/\")[1]\n",
    "        #loader = PyPDFLoader(pdf_name)\n",
    "        loader = pdf_text_extraction(pdf_file_name)\n",
    "        \n",
    "        documents = loader #.load()\n",
    "        #print(documents)\n",
    "        text_splitter = CharacterTextSplitter(chunk_size=1000, chunk_overlap=0)\n",
    "        docs = text_splitter.split_documents(documents)\n",
    "        print(\"PDF_NAME, length\", blob.name, len(docs))\n",
    "        #for index, doc in enumerate(docs):\n",
    "        #    dict_data[index] = {}  # Create a sub-dictionary for each document\n",
    "        #    dict_data[index]['id'] = blob.name\n",
    "        #    dict_data[index]['page_content'] = doc.page_content\n",
    "        #   dict_data[index]['page_number'] = doc.metadata['page']\n",
    "        \n",
    "        bid=str(blob.name).split(\"/\")[1].split(\".\")[0].lower().replace(\" \",\"_\").replace(\"_\",\"-\")\n",
    "            \n",
    "        for doc in docs:\n",
    "            dict_data.append({\n",
    "                'id': bid,\n",
    "                'page_content': doc.page_content,  # You can set a title based on your needs\n",
    "                'page_number': doc.metadata['page'],\n",
    "            })\n",
    "\n",
    "        print(f\"splitted into {len(docs)} documents\") \n",
    "        \n",
    "        \n",
    "\n",
    "        for item in dict_data:\n",
    "            title = item['id']\n",
    "            content = item['page_content']\n",
    "            title_embeddings = embeddings.embed_query(title)\n",
    "            content_embeddings = embeddings.embed_query(content)\n",
    "            item['titleVector'] = title_embeddings\n",
    "            item['contentVector'] = content_embeddings\n",
    "            \n",
    "            \n",
    "\n",
    "        vector_search = VectorSearch(\n",
    "            algorithm_configurations=[\n",
    "                HnswVectorSearchAlgorithmConfiguration(\n",
    "                    name=\"my-vector-config\",\n",
    "                    kind=\"hnsw\",\n",
    "                    parameters={\n",
    "                        \"m\": 4,\n",
    "                        \"efConstruction\": 400,\n",
    "                        \"efSearch\": 500,\n",
    "                        \"metric\": \"cosine\"\n",
    "                    }\n",
    "                )\n",
    "            ]\n",
    "        )\n",
    "        \n",
    "        \n",
    "        semantic_config = SemanticConfiguration(\n",
    "            name=\"my-semantic-config\",\n",
    "            prioritized_fields=PrioritizedFields(\n",
    "                title_field=SemanticField(field_name=\"id\"),\n",
    "                prioritized_content_fields=[SemanticField(field_name=\"page_content\")]\n",
    "            )\n",
    "        )\n",
    "\n",
    "        # Create the semantic settings with the configuration\n",
    "        semantic_settings = SemanticSettings(configurations=[semantic_config])\n",
    "\n",
    "\n",
    "        \n",
    "        #credential = AzureKeyCredential(AZURE_SEARCH_ADMIN_KEY)\n",
    "        search_client = SearchIndexClient(endpoint=AZURE_SEARCH_SERVICE_ENDPOINT, credential=credential)\n",
    "        search_client_v2 = SearchClient(endpoint=AZURE_SEARCH_SERVICE_ENDPOINT, index_name=AZURE_SEARCH_INDEX_NAME, credential=credential)\n",
    "\n",
    "        bid=str(blob.name).split(\"/\")[1].split(\".\")[0].lower().replace(\" \",\"_\").replace(\"_\",\"-\")\n",
    "        AZURE_SEARCH_INDEX_NAME=bid + \"-index\"\n",
    "        print(AZURE_SEARCH_INDEX_NAME)\n",
    "        # Define your Azure Cognitive Search credentials and index settings as previously done\n",
    "        # Check if the index already exists\n",
    "        existing_index = None\n",
    "        # Define your Azure Cognitive Search credentials and index settings as previously done\n",
    "\n",
    "\n",
    "            # The index doesn't exist, so create a new one\n",
    "        if existing_index == None:\n",
    "            #index = SearchIndex(name=AZURE_SEARCH_INDEX_NAME,fields=[SimpleField(name=\"id\", type=SearchFieldDataType.String, key=True, searchable=False),SearchableField(name=\"content\", type=SearchFieldDataType.String, searchable=True),SearchableField(name=\"content_vector\", type=SearchFieldDataType.Collection(SearchFieldDataType.Single), searchable=True, vector_search_dimensions=1536,vector_search_configuration=\"my-vector-config\",),SearchableField(name=\"metadata\", type=SearchFieldDataType.String, searchable=True),],)\n",
    "            #index = SearchIndex(name=AZURE_SEARCH_INDEX_NAME,fields=[SimpleField(name=\"id\", type=SearchFieldDataType.String, key=True, searchable=False),SearchableField(name=\"content\", type=SearchFieldDataType.String, searchable=True),SearchableField(name=\"metadata\", type=SearchFieldDataType.String, searchable=True),],)\n",
    "            fields = [\n",
    "            SimpleField(name=\"id\", type=SearchFieldDataType.String, key=True, sortable=True, filterable=True, facetable=True),\n",
    "            SearchableField(name=\"page_content\", type=SearchFieldDataType.String),\n",
    "            SearchableField(name=\"page_number\", type=SearchFieldDataType.String),\n",
    "            SearchField(name=\"titleVector\", type=SearchFieldDataType.Collection(SearchFieldDataType.Single),\n",
    "                        searchable=True, vector_search_dimensions=1536, vector_search_configuration=\"my-vector-config\"),\n",
    "            SearchField(name=\"contentVector\", type=SearchFieldDataType.Collection(SearchFieldDataType.Single),\n",
    "                        searchable=True, vector_search_dimensions=1536, vector_search_configuration=\"my-vector-config\"),\n",
    "            ]\n",
    "\n",
    "            index = SearchIndex(name=AZURE_SEARCH_INDEX_NAME, fields=fields,\n",
    "                    vector_search=vector_search)\n",
    "\n",
    "            # Create the new index\n",
    "            search_client.create_index(index)\n",
    "            #print(f\"Index '{AZURE_SEARCH_INDEX_NAME}' created successfully.\")\n",
    "            #result = search_client_v2.upload_documents(documents=final_doc)\n",
    "            print(\"Vector store added successfully\")\n",
    "\n",
    "        else:\n",
    "            try:\n",
    "                # Check if the index exists\n",
    "                existing_index = search_client.get_index(AZURE_SEARCH_INDEX_NAME)\n",
    "                print(f\"Index '{AZURE_SEARCH_INDEX_NAME}' already exists. You can use the existing index.\")\n",
    "                #vector_store.add_documents(documents=final_doc)\n",
    "                result = search_client.upload_documents(documents=final_doc)\n",
    "                print(f\"Uploaded {len(content)} documents\")\n",
    "                print(\"Vector store added successfully\")\n",
    "            except Exception as e:\n",
    "                print(e)\n",
    "                pass\n",
    "    else:\n",
    "        continue"
   ]
  },
  {
   "cell_type": "code",
   "execution_count": 28,
   "id": "c80ea237",
   "metadata": {},
   "outputs": [
    {
     "name": "stdout",
     "output_type": "stream",
     "text": [
      " alaska-airlines-and-horizon-air-sms-manual-index created\n"
     ]
    }
   ],
   "source": [
    "vector_search = VectorSearch(\n",
    "    algorithm_configurations=[\n",
    "        HnswVectorSearchAlgorithmConfiguration(\n",
    "            name=\"my-vector-config\",\n",
    "            kind=\"hnsw\",\n",
    "            parameters={\n",
    "                \"m\": 4,\n",
    "                \"efConstruction\": 400,\n",
    "                \"efSearch\": 500,\n",
    "                \"metric\": \"cosine\"\n",
    "            }\n",
    "        )\n",
    "    ]\n",
    ")\n",
    "\n",
    "\n",
    "semantic_config = SemanticConfiguration(\n",
    "    name=\"my-semantic-config\",\n",
    "    prioritized_fields=PrioritizedFields(\n",
    "        title_field=SemanticField(field_name=\"id\"),\n",
    "        prioritized_keywords_fields=[SemanticField(field_name=\"page_content\")]\n",
    "    )\n",
    ")\n",
    "\n",
    "# Create the semantic settings with the configuration\n",
    "semantic_settings = SemanticSettings(configurations=[semantic_config])\n",
    "\n",
    "# Create the search index with the semantic settings\n",
    "index = SearchIndex(name=AZURE_SEARCH_INDEX_NAME, fields=fields,\n",
    "                    vector_search=vector_search, semantic_settings=semantic_settings)\n",
    "\n",
    "result = search_client.create_or_update_index(index)\n",
    "print(f' {result.name} created index')"
   ]
  },
  {
   "cell_type": "code",
   "execution_count": 29,
   "id": "5dbee266",
   "metadata": {},
   "outputs": [
    {
     "name": "stdout",
     "output_type": "stream",
     "text": [
      "<class 'str'>\n"
     ]
    }
   ],
   "source": [
    "print(type(str(dict_data[0]['page_number'])))"
   ]
  },
  {
   "cell_type": "code",
   "execution_count": 73,
   "id": "44292175",
   "metadata": {},
   "outputs": [],
   "source": [
    "final_doc=[]\n",
    "for index,doc in enumerate(docs):\n",
    "    final_doc.append({'id':dict_data[index]['id'],'page_content':dict_data[index]['page_content'],'page_number':str(dict_data[index]['page_number']), 'titleVector':dict_data[index]['titleVector'], 'contentVector':dict_data[index]['contentVector']})\n",
    "    search_client_azure.upload_documents(final_doc)"
   ]
  },
  {
   "cell_type": "code",
   "execution_count": 71,
   "id": "de5aa4f8",
   "metadata": {},
   "outputs": [
    {
     "name": "stdout",
     "output_type": "stream",
     "text": [
      "Uploaded 125 documents\n"
     ]
    }
   ],
   "source": [
    "search_client_azure = SearchClient(endpoint=AZURE_SEARCH_SERVICE_ENDPOINT, index_name=AZURE_SEARCH_INDEX_NAME, credential=credential)\n",
    "for doc in final_doc:\n",
    "    search_client_azure.upload_documents(doc)  \n",
    "print(f\"Uploaded {len(final_doc)} documents\") "
   ]
  },
  {
   "cell_type": "code",
   "execution_count": 54,
   "id": "7bb868d2",
   "metadata": {},
   "outputs": [],
   "source": [
    "result=search_client_azure.upload_documents(final_doc)  "
   ]
  },
  {
   "cell_type": "code",
   "execution_count": 61,
   "id": "e7f06445",
   "metadata": {},
   "outputs": [
    {
     "name": "stdout",
     "output_type": "stream",
     "text": [
      "{'id': 'aag-safety-manual', 'page_content': 'Uncontrolled copy when downloaded or printed from an electronic document.\\nSafety Manual\\n(Alaska Air Group)\\nRevision 1-2023 6/16/2023', 'page_number': 0, 'titleVector': [-0.012831310985940949, -0.011140199590267756, -0.004548386291599466, -0.03244116219068729, 0.002737487252775625, 0.016389692514307743, -0.01277494082339378, 0.00816666071021899, -0.027128251786043823, -0.0014295180134742038, 0.010449662072266521, 0.008526022708348345, -0.0030669018744560205, 0.0284106792704194, 0.00638394721833003, -0.00873036512965845, 0.020955695238402804, 0.00663056749438116, -0.010442615685532801, -0.014000997213899595, -0.007056868769496965, 0.022830009895184942, -0.020941602464935365, -0.023337344152077232, 0.00503105772926244, 0.008547160937226912, 0.007440892189871747, -0.035372421819011145, -0.004523724403692741, -0.010921764395490212, -0.00035077360311718144, -0.024760695645836838, -0.0009168997232312293, -0.022731362343558045, -0.010787883978872124, -0.004421552727376393, -0.00828644835336964, -0.011612300982168856, 0.007976411062376326, -0.007807299643412229, 0.02109662111043202, 0.0043722289515629445, 0.008371004062851689, 0.0009521311912385335, 0.01228874572670265, -0.0018038526520901205, -0.0050345809226293, -0.012549459241882516, -0.04692835450127802, 0.01653061838633696, -0.008976985871370875, 0.01278903359686122, -0.017643934451748437, 0.0028977906883225716, 0.01006211545852488, 0.017390266391979697, -0.010907671622022773, 0.019053193172040604, 0.0023640334125014234, -0.021434842085715028, -0.009350439711645077, -0.03018634637557464, -0.05112794884051, 0.030299086700668977, -0.011964616593564488, -0.005249492924039985, 0.000427181898834535, -0.0028467048501643975, -0.014402635669786085, -0.01544548786786036, 0.01884180529531937, 0.038867388660742234, -0.012133727081205994, -0.0011203616372379294, 0.011626393755636295, -0.004647034308887658, -0.020236971242144096, -0.0036535061194574773, -0.0036429367721875455, 0.019377323236501355, 0.0109851809447711, -0.00413970098331796, -0.013838932181669218, 0.029763568759486988, 0.003984682337821303, 0.005756826715270979, -0.018207637939865302, 0.004192547952498268, -0.010146671168006929, -0.025098918483765033, 0.010689236427245227, 0.017643934451748437, 0.022717269570090605, 0.016798377356927952, -0.0023657950091848534, 0.01740435916544714, 0.000317523873171074, 0.019546434655465454, -0.012380347822918419, -0.018179452392930423, -0.00873036512965845, -0.01006211545852488, 0.007285873544375091, 0.0030528091009885804, -0.012901773921955557, -0.026578641071394397, 0.020251064015611536, -0.007180179140353178, -0.0020046721128640136, -0.01555822912427729, -0.014599932635685061, 0.03599249640099777, 0.009427949034393404, -0.034724161690089635, -0.007631142303375708, -0.006327577055782862, -0.0017298665227086522, -0.0038331868856915064, -0.015825989026190874, -0.019433694330371117, 0.002298855266537105, 0.015600506513357018, 0.017122507421388704, 0.0033029528032372177, 2.7373220812586803e-05, 0.004823192114585475, -0.0048901318572332235, 0.0109499490111025, -0.006796155719978396, -0.018743155881047288, 0.022266306407068073, 0.01812308129906066, 0.013000422404905046, 0.01007620823199232, -0.022435417826032172, 0.04788665192119283, -0.028340215403082198, 0.014459006763655845, -0.025888104484715756, -0.021350287307555574, 0.019447787103838557, 0.024887528744398615, -0.02832612262961476, -0.01833447103842708, 0.0192223045910047, 0.006373377638229451, 0.024337918029749186, 0.019659174980559788, -0.0033240917306077296, 0.014303988118159187, 0.012662199566976852, -0.0073070122389149545, -0.0009353962555765965, -0.019659174980559788, 0.005436219844177086, 0.02367556512736024, -0.007398614335130723, 0.0038367100790583663, -0.029538086246653134, -0.025113011257232472, -0.006884234622827305, 0.011957570206830768, 0.01595282212475265, 0.004950025213147252, -0.006299391508847982, 0.028312031718792503, -0.02843886481735428, -0.02470432641461226, 0.011548884432887967, -0.014134876699195092, -0.0019694406448567095, 0.020659750720876932, 0.01834856381189452, 0.009928235973229383, -0.014980432862692983, 0.04013571964636, 0.008053920385124654, 0.00872331874292473, -0.007912994513095437, 0.010921764395490212, -0.015501858961730121, 0.004671696662455678, 0.007884808966160558, 0.03447049549296608, -0.019828286399523887, 0.002765672566879857, 0.020702027178634067, 0.025465326868628107, -0.017066136327518945, -0.00126128762568247, 0.006464979734445219, -0.003179642665211653, 0.006077433120703577, -0.01840493490576428, -0.6737389692809505, -0.01968736052749467, 0.005651132311249067, -0.02863615992060807, 0.019659174980559788, 0.04348975875341669, 0.02063156517394205, 0.005404511569536642, -0.0004051622022261389, 0.02328097305820747, -0.03246934773762217, 0.026761845263825936, -0.01416306131480738, 0.0053728032948961975, 0.01099927371823854, -0.01499452470483783, -0.00040868536648916795, -0.024084251832625636, 0.01963098943362491, 0.026564548297926958, 4.992963753956055e-05, 0.008695133195989848, -0.01705204541669669, 0.002987630955024262, 0.00872331874292473, -0.004562479065066905, 0.01197870936703193, -0.02563443642494702, 0.007476123657879052, 0.01902500762510572, -0.0015572321432083434, -1.7767133951560413e-05, -0.0031021333424633246, 0.006292345122114262, 0.047773909733453315, -0.025789455070443675, -0.011781412401132951, 0.019391416009968795, 0.025845826164313433, 0.030440012572698193, -0.0075606793673611, -0.01692521045548973, 0.019264582911407018, -0.013557080437610785, -0.0007962318056078237, 0.007391567948397003, 0.03991023899617133, -0.0018197067894103426, 0.006161988830185625, -0.012232375564155481, 0.020307435109481298, 0.011238847141894654, 0.007476123657879052, 0.016586989480206718, -0.0026106539213832003, 0.007772068175404925, 0.014501284152735572, -0.014282848957958028, 0.004879562277132643, 0.014797228670261446, -0.009519550199286582, 0.009308161391242756, -0.014797228670261446, -0.01724934051995048, -0.01961689666015747, 0.004625895614347794, -0.008681040422522409, 0.009287022231041596, 0.020279249562546415, -0.010900625235289051, -0.007645234611181852, -0.00021623331533858153, -0.01375437647218717, 0.003401601053356058, 0.015375024931845753, 0.0017219394540485412, -0.014599932635685061, 0.0027057789781351808, 0.006757401058604232, -0.008695133195989848, -0.0007187225410671574, 0.020659750720876932, 0.007000498606949798, -0.002714586728721683, 0.01183778256368012, -0.0156286920602919, -0.02147712040611735, -0.0047386364051034266, 0.01884180529531937, -0.0005989354217854668, 0.011097921269865436, -0.00013101712351557088, -0.019814193626056447, -0.009519550199286582, 0.008927661164234834, 0.0022583390084795108, 0.007398614335130723, -0.006235974959567093, 0.01554413635080985, -0.01744663748584946, -0.00870217958272357, 0.003706353554299082, 0.004974687566715271, -0.0006319649521461455, -0.006732739170697508, 0.022759547890492924, 0.0004177134330764227, 0.002342894485130911, 0.00875150428985961, -0.013028607951839926, 0.02018060201091952, 0.005901275780667056, 0.004023436999195467, -0.02755103126477666, 0.0032606749484961933, -0.035738830203874215, 0.016474247292467197, 0.019800100852589007, 0.012753801663192621, -0.028368400950017077, 0.014853598832808615, -0.008462605227744864, 0.014571747088750182, -0.0061514192500850455, 0.004379274872635368, 0.019349137689566476, 0.010794930365605844, -0.0034808719727878164, -0.005006395841355715, -0.012457857145666747, -0.0018144221157753767, -0.0151213587347222, -0.007314058625648674, -0.01183778256368012, 0.009420902647659685, -0.005749780328537259, 0.0054115579562703615, -0.0018126605190919465, 0.025366677454356026, 0.007215410608360482, -0.03762723949676898, 0.0055207755536591345, 0.013373876245179248, -0.011584116366556567, -0.015713246838451354, -0.030299086700668977, -0.018461304136988856, 0.023351436925544672, 0.003334661077877662, 0.011316356464642982, -0.015924636577817772, 0.01049898584807997, -0.013690959922906282, 0.0036288442315507534, 0.001032282850804345, -0.009132003585544939, -0.029650828434392654, -0.011858921723881281, 0.00045140356219338767, -0.009977559749042832, 0.014388542896318645, 0.012302838500170091, -0.02102615724309482, -0.016206488321876204, -0.012521273694947635, -0.011633440142370015, 0.005179029988025377, 0.014501284152735572, -0.017855322328469668, -0.02981993985335675, -0.0003503332039463239, -0.026240418233466203, -0.019659174980559788, 0.01885589806878681, 0.015783710705788555, 0.010224180490755257, -0.0002891184758967371, -0.0026000845741132685, 0.024915714291333494, 0.005732164361702959, 0.006197220298192929, 0.007222456995094203, 0.0009706277235839006, 0.016446063608177502, 0.014444913990188405, 0.010259411493101264, -0.010823115912540723, 0.002140313427673588, -0.012239421950889203, 0.0043334742901887805, -0.0050028726479888555, 0.006753877865237372, 0.003368131182032184, 0.01464221002476479, -0.025648529198414458, 0.010435569298799081, -0.01881361974838449, 0.01558641467121217, 0.0014471337474778558, 0.02414062106385021, 0.046139166637682104, -0.018869988979609065, 0.039628387252112894, -0.02150530595305223, 0.03610523858873729, -0.007666373771383013, -0.0022107763636881965, -0.006648183461215459, 0.027156437332978706, 0.01412078392572765, 0.007032206881590242, -0.012274653884557802, 0.010583541557562018, -0.0165447111598044, 0.0058202432645518675, 0.015417303252248073, 0.00251024407458093, 0.018686786649822713, -0.0032025429564349474, 0.009477272810206853, 0.026310882100803405, 0.02559215996718988, 0.023196418280048016, -0.012190098175075754, -0.000624478282656892, 0.006989929026849217, 0.0127819872101275, 0.011041551107318269, -0.0014982193528053822, -0.013162487437135422, -0.007356336480389699, -0.009463180036739413, 0.019941026724618224, 0.012683338727178013, 0.023450084477171566, 0.017629841678280998, 0.0006702792143494522, -0.00621483626502723, 0.0013273466864038273, 0.009794356487933887, 0.01703795264322925, 0.012591736630962243, 0.0330894223196088, 0.013853024955136658, 0.012514227308213915, -0.0026546933728076546, 0.02425336325158973, 0.0065636277517334115, -0.004611802840880354, 0.005651132311249067, -0.004728066825002847, 0.006028109344890129, -0.023041399634551357, 0.020758398272503826, 0.005235400616233841, 0.005890706200566476, 0.016586989480206718, -0.0008424731946789035, 0.013937579733296113, 0.013092024501120814, 0.011126106816800317, 0.029960865725385966, 0.015163636123801928, -0.005316432666687733, 0.0015845365425555364, 0.0030334317703014984, -4.0296025730355565e-05, 0.004911270551773087, -0.016431970834710062, 0.005503159586824834, 0.013451385567927576, -0.0009195420600487124, -0.004798529761017455, -0.0266491049387316, 0.032892127216355004, 0.006996975413582937, 0.01603737690291211, 0.004196071145865128, 0.011464328723405918, -0.00666579942804976, -0.03142649367690271, -0.048450355409309705, 0.013937579733296113, 0.023182325506580573, -0.008215985417355031, 0.022125380535038857, -0.010301689813503585, 0.00035517753661809445, -0.009315207777976476, 0.013740283698719729, 0.0013229426946952522, 0.022999121314149037, -0.018151266845995544, 0.017531192264008916, 0.018094897614770965, -0.01596691489822009, -0.0016329798692732418, -0.02395741873406386, 0.003214874133218957, -0.002032857426968246, 0.005397465182802922, -0.025169380488457047, -0.019771915305654125, 0.0031356032137871987, 0.012042125916312818, 0.022618620155818524, 0.009519550199286582, -0.022477694283789307, -0.00035781990253940844, -0.019377323236501355, -0.005055719617169164, -0.0022424848711592887, -0.0017518861320055554, 0.008089151387470662, -0.009279975844307876, -0.011252939915362093, -0.040727608681411745, -0.01004097629832372, 0.009998698909243991, -0.019884657493393645, 0.017869415101937108, -0.01565687760722678, 0.0024292117912963897, 0.011119060430066597, 0.042869684171430056, 0.002977061374923682, 0.01099222733150482, 0.008399188678463976, 0.002716348325405113, -0.007078007929698126, -0.008053920385124654, -0.009442040876538252, 0.017545285037476356, 0.011323402851376702, -0.021434842085715028, 0.010280550653302425, -0.007169609560252598, -0.01053421778174857, 0.04763298199877891, 0.013944626120029835, 0.016699729805301055, -0.01598100767168753, 0.0009336346588931664, -0.008991077713515722, 0.0018584614507845068, 0.0032730061252802035, 0.022449510599499612, 0.012958145015825318, -0.007384521561663283, -0.0192927684583419, 0.015459580641327802, 0.03151105031770735, -0.011337495624844141, -0.025465326868628107, -0.008018688451456054, 0.022252213633600634, 0.02507073293683015, 0.011245893528628374, 0.006503734395819383, 0.010661050880310347, -0.006760924251971092, 0.0034650178354675943, 0.0041361777899511, 0.005397465182802922, 0.03306123677267392, 0.01603737690291211, -0.0013026845656664552, -0.03480871833089428, 0.013634589760359113, -0.01499452470483783, 0.007863669805959397, 0.0021279824837202263, -0.002564852873275316, -0.0133245524693658, 0.04129131589481898, 0.013035653407251054, 0.010456708459000241, -0.006764447445337952, 0.012824264599207229, -0.0074549849633391875, -0.028861642433441928, 0.010872439688354172, -0.006764447445337952, -0.022985028540681598, -0.01366982076270512, -0.015769617932321116, 0.03850098027587916, -0.025000270932138136, -0.03052456921350283, -0.02239313950562985, -0.02377421454163232, 0.003805001571587274, -0.035259683356561995, 0.01423352518214458, 0.013683913536172562, -0.02436610357668407, -0.020828860277195844, -0.013430246407726415, 0.009308161391242756, 0.0001160437408813173, 0.020871138597598163, -0.00818075348368643, -0.01953234188199801, 0.03976931498678729, -0.009392717100724805, -0.018264007171089877, -0.01702385986976181, -0.039628387252112894, -0.007166086366885738, 0.01791169342233943, 0.003790909030950482, -0.021660324598548886, 0.013359783471711807, 0.02694504945625747, 0.014134876699195092, -0.005577146181867599, 0.030299086700668977, -0.026705474169956174, 0.004650557502254518, -0.01049193946134625, -0.012056218689780258, 0.04334883474403265, 0.005429173457443366, 0.00963933784243723, 0.0009336346588931664, -0.02774832636803045, -0.011612300982168856, -0.015699155927629098, 0.014952247315758104, 0.0072295033818279225, -0.006577720525200851, 0.014282848957958028, 0.0037521543695763176, 0.011696856691650903, -0.011238847141894654, -0.001897216112158671, 0.007342244172583555, -0.022477694283789307, -0.009392717100724805, -5.8902657868437026e-05, 0.032187495993563735, 0.01963098943362491, 0.0034773487794209565, 0.010668097267044067, -0.008843105454752786, -0.012542412855148795, 0.02504254738989527, 0.03001723495661054, -0.006373377638229451, 0.04867583605949837, 0.002772718720782929, -0.027396012619280003, -0.023548732028798463, -0.015431396025715513, 0.00547497450555125, 0.03021453192250952, 0.01605146967637955, 0.010773792136727276, -0.01095699539783622, -0.012753801663192621, -0.019560527428932894, 0.02801608720126663, -0.0047386364051034266, -0.02962264288745777, -0.00011813561511501718, -0.003436832521363362, 0.0209838789226925, 0.0026317928487537127, 0.009371577940523644, -0.01242262614332074, -0.019786008079121564, 0.014515376926203014, -0.015177728897269368, 0.02435201080321663, -0.00862467025997524, -0.008681040422522409, -0.0010314020524626298, -0.00862467025997524, -0.022463601510321868, -0.0385855369166838, -0.01281017182573979, -0.007779114562138645, 0.026691381396488734, 0.028283846171857623, 0.04481446455819458, -0.017319804387287682, -0.01723524774648304, 0.022026731120766776, -0.00015501858728899474, 0.006362808523790166, -0.032892127216355004, 0.01331045969589836, -0.024774788419304278, 0.02733964152541024, 0.015022710251772712, -0.009942328746696823, 0.010766745749993555, 0.009498411970408013, 0.010435569298799081, 0.003738061828939526, 0.001890169841840275, -0.02547941777945036, 0.009681615231516958, -0.04382798159134488, -0.003362846391981894, -0.0029805845682905423, 8.103244335561088e-05, 0.02347827002410645, -0.04901405889742657, -0.008554207323960632, 0.059132543587176026, 0.0066023824131075754, 0.006517826703625527, -0.0038825108943356026, 0.011048597494051989, -0.025211658808859366, -0.007877762579426838, -0.002316471000540757, 0.01834856381189452, 0.00016525773704419215, -0.01918002627060238, -0.018884081753076504, 0.007877762579426838, 0.014966340089225543, 0.024887528744398615, -0.009322254164710195, 0.0033223301339242997, -0.010837208686008163, -0.024422472807908643, 0.016742008125703377, 0.005422127536370942, 0.0028925058982722817, 0.02435201080321663, -0.021843528790980424, -0.01187301449734872, -0.03145467922383759, -0.019659174980559788, -0.01586826548394801, 0.038951941576256505, 0.0012780225613444071, 0.005217784649399541, 0.013190672052747711, -0.01140091217412503, -0.004530770324765165, 0.005457359004378246, -0.0038930804744361823, 0.026367253194673167, 0.0058942293939333356, 0.01281721821247351, 0.005076858777370324, 0.007285873544375091, -0.011640486529103735, -0.0006222762868026044, 0.011302264622498134, -0.0009389193907357945, -0.01184482895041384, 0.006619998379941875, -0.018503582457391175, -0.037035350461717235, -0.0010093824431657268, -0.0001790200365105031, 0.0010472561897828519, -0.02233676841176009, 0.029087123083630602, 0.006605905606474435, 0.010203041330554096, -0.01557232189774473, -0.023999695191820995, -0.002254815815112651, 0.015079080414319879, 0.03159560695851199, 0.0048161457278517545, 0.027170530106446145, -0.007610003143174548, -0.00029484357780639164, 0.030947346829590484, -0.020222878468676656, 0.0038754647404325303, 0.012972236857970165, -0.025648529198414458, 0.009427949034393404, -0.019926933951150784, -0.022167656992795992, -0.008864244614953946, 7.294021045451279e-05, 0.03258208992536169, 0.011809597948067832, -0.0036288442315507534, 0.005584192102940023, 0.00995642058884167, -0.012401486983119579, -0.01991284117768334, 0.00020269120090578383, 0.02880527133957217, -0.00215616756499381, -0.012634014951364564, 0.0036746450468279892, -0.006331099783488426, -0.006172558410286205, 0.02370375067429512, 0.00475272871290957, -0.0019958643622775113, 0.00040185926665236963, -0.026240418233466203, -0.01510726596125476, 0.05769509931994898, -0.016107840770249307, 0.005302340358881589, 0.0047034049370961225, -0.013747330085453448, 0.014487191379268132, -0.023661474216537984, 0.01634741419390542, -0.016502432839402077, -0.014515376926203014, -0.013345690698244367, -0.021392565627957893, -0.0007055107405644184, -0.004291196435447757, -0.006309961088948562, 0.009921189586495663, 0.022548158151126506, -0.015811896252723435, 0.011823690721535272, -0.020955695238402804, 0.016192395548408765, -0.009315207777976476, 0.016093747996781867, -0.0031003717457798946, -0.021730786603240904, 0.01702385986976181, 0.0264799935197675, -0.022689084023155722, -0.041967757845385, 0.019926933951150784, 0.03128556966751868, 0.0025736608566924663, -0.0030316704064487165, 0.029087123083630602, -0.01692521045548973, 0.009871865810682215, 0.01375437647218717, -0.01970145330096211, 0.020871138597598163, -0.015741432385386233, 0.01509317318778732, 0.02373193622123, -0.001718416260681681, 0.0005588596211063921, 0.0076381886901094286, -0.0017360319946853333, 0.014543561541815301, -0.02880527133957217, -0.00995642058884167, 0.037514497309029456, 0.01878543420144961, -0.008984031326782002, -0.032131124899693976, -0.013042699793984773, 0.012901773921955557, -0.014952247315758104, 0.011379773945246462, -0.018151266845995544, -0.02750875294437434, 0.0060069701846889685, -0.01464221002476479, -0.017798953097245093, 0.014614024477829909, -0.021336194534088134, 0.01378256201912205, 0.02104025001656226, -0.011485467883607079, -0.015699155927629098, -0.03624616259812132, -0.004868992697032063, 0.007328151399116115, 0.023929233187128977, -0.04329246365016289, -0.01675609903652563, 0.014825414217196327, -0.032863941669420124, 0.004400414032836529, -0.024436565581376083, 0.020716119952101507, 0.017362080845044817, 0.014895877153210935, -0.00413970098331796, 0.0228863809890547, 0.0022477694283789306, 0.008371004062851689, 0.004009344225728027, -0.021336194534088134, -0.0075324938204262195, -0.0032747677219636335, 0.0007006664078926478, -0.005760349908637839, -0.044335313985591984, -0.012267607497824082, -0.0013238234930369674, -0.02018060201091952, -0.005133228939917492, 0.0008134071986482804, -0.012415579756587018, -0.013472524728128736, 0.0065636277517334115, -0.0017809521280361784, -0.0039036498217061145, -0.00756772575409482, -0.0007781756724333142, -0.03556972064755531, 0.00016085380354327914, 0.014325126347037757, 0.004270057275246596, -0.018461304136988856, -0.021138897568189156, 0.01273970888972518, -0.01366982076270512, 0.003945927676447139, -0.015191821670736808, -0.00458009456623991, -0.0028907443015888518, -0.011703903078384623, 0.015360933089700905, 0.00638747041169689, -0.014571747088750182, 0.008448513385600017, -0.013853024955136658, 0.015896451030882892, -0.0017157738656565361, 0.008215985417355031, -0.024436565581376083, -0.011626393755636295, -0.0003972351335660279, -0.0036288442315507534, 0.02322460196433771, -0.013958718893497275, 0.012309884886903811, -0.008082105000736943, 0.027283270431540482, 0.0011353349762164365, -0.024521122222180725, -0.03909286931093091, 0.006693984509323344, -0.0008772642635153502, -0.01967326775402723, -0.006979359446748637, 0.0006746831478503652, -0.021167083115124035, 0.029256234502594698, -0.01685474845079771, -0.01288063569307699, -0.02188580524873756, -0.008744457903125889, -0.013197718439481431, 0.0033927930699389082, 0.0056722710057889305, -0.01183778256368012, 0.02794562333392943, -0.0005610616169606797, 0.007042776461690822, 0.17497369980216096, -0.009991652522510271, 0.002901313881689432, 0.03339945961060211, -0.02611358513490443, 0.005214261456032681, 0.024098344606093076, -0.01775667477684277, -8.923477604942337e-05, 0.01595282212475265, -0.0040340065792960475, 0.009244744841961867, 0.0016144833369278746, -0.004178455644692124, -0.004509631630225302, 0.0002253714817185507, -0.04461716945494079, -0.004840807615758479, -0.03201838271195446, 0.015417303252248073, 0.022830009895184942, -0.0053340486335220335, -0.0023975032838252975, -0.019335044916099036, 0.024464751128310962, 0.006373377638229451, -0.025310308223131447, 0.011999847595910497, 0.015896451030882892, 0.008659902193643841, -0.027297363205007922, -0.005799104570012004, 0.018221730713332742, -0.012436717985465588, -0.031031901607749938, -0.011252939915362093, -0.0008261785999801619, -0.013500709343741025, -0.006849003154820001, 0.021124804794721716, -0.01840493490576428, -0.0036675988929249174, -0.008342818515916808, -0.03579520129774398, -0.015064987640852439, 0.028142920299828407, 0.007060391962863825, -0.01377551563238833, -0.0101043937789272, 0.02374602899469744, -0.041770462742131205, 0.010343967202583314, 0.009005170486983162, 0.02705778978135181, 0.006295868315481122, -0.0019747254349069994, 0.01743254471238202, -0.009082679809731492, 0.018221730713332742, 0.012704477887379172, -0.008427374225398855, 0.013895302344216386, -0.022491787057256747, 0.010766745749993555, -0.029143494177500364, 0.020363804340705872, 0.009350439711645077, 0.005619423570947327, -0.002938306946380166, -0.020251064015611536, -0.0015440204009132662, -0.002753341390095847, -0.019039100398573164, 0.00862467025997524, -0.015741432385386233, -0.028974382758536265, 0.00756772575409482, 0.04797120483670711, -0.007187225527086898, 0.004259488160807312, -0.010646958106842906, 7.156397759749859e-05, -0.010210087717287816, 0.006718646397230068, 0.001479722820460015, -0.023576917575733342, 0.02101206446962738, -2.903846016850792e-05, -0.004957071599880972, -0.0020945123795657037, 0.000547409359079421, -0.001086891649498731, -0.006989929026849217, -0.0005716310224382737, -0.00905449426279661, 0.02295684299374672, -0.0029753000110709, 0.023562824802265903, 0.009336346938177637, -0.008878337388421385, -0.03976931498678729, 0.050705169361777165, 0.015755525158853676, 0.003621797844817033, -0.012972236857970165, 0.006327577055782862, -0.014064413763180484, 0.03587975793854862, 0.005721595247263675, -0.022054916667701655, -0.016742008125703377, -0.02438019635015151, -0.010928810782223932, 0.0026458853893905044, -0.0030845176084596726, 0.009075633422997772, 0.01633332142043798, -0.029397160374623914, 0.011076783040986868, -0.02788925224005967, -0.004837284422391619, -0.017164785741791026, 0.011703903078384623, 0.009420902647659685, -0.029538086246653134, -0.02874890210834759, -0.026409529652430302, 0.010132578394539488, 0.012965190471236445, -0.022224028086665754, 0.01595282212475265, -0.0009820779274032096, 0.007483170044612772, 0.007314058625648674, 0.014261709797756868, -0.00296649202765375, -0.020321527882948737, -0.014769043123326567, 0.0040304833859291875, 0.001056064173200002, 0.02347827002410645, -0.01968736052749467, 0.02463386254727506, -0.008363957676117967, 0.02973538321255211, -0.02377421454163232, 0.023196418280048016, 0.010245319650956417, -0.008363957676117967, -0.0017571709220558453, -0.01836265658536196, -0.02012423091704976, -0.0021861144757814722, 0.010731513816324955, 0.007490216431346492, -0.003949450869813999, -0.013937579733296113, -0.03658438543604952, 0.002938306946380166, 0.008913568390767394, -0.018531768004326057, 0.001983533185493501, 0.031229198573648916, -0.03106008715468482, -0.009667522458049518, -0.00013090702372285648, -0.18523311967716555, 0.0030316704064487165, 0.019081378718975483, -0.010893578848555331, 0.014360358280706356, 0.0017615747973490964, 0.026395436878962862, 0.029030753852406027, -0.01564278483375934, -0.028650252694075513, 0.022054916667701655, -0.020927509691467925, 0.006729215977330648, -0.005580668909573162, 0.013395015405380408, -0.008589439257629233, -0.02911530863056548, 0.012450810758933027, 0.00683491038135256, 0.017277526066885363, 0.003403362650039488, 0.004185502031425844, -0.002748056832876205, -0.013099070887854534, -0.005527821940392854, 0.015797803479255995, -0.028946197211601386, 0.0006033394134940419, -0.022266306407068073, -0.0015096696148323532, -0.0067855861398778165, 0.009723893551919278, -0.0014295180134742038, 0.014402635669786085, -0.005915368554134496, -0.015995100445154974, -0.03072186617940181, -0.002090989419029492, -0.013979858053698434, 0.01544548786786036, 0.004953548406514112, 0.018700879423290153, -0.004654080695621378, 0.0076381886901094286, -0.02285819544211982, 0.030496383666567952, 0.03201838271195446, -0.014501284152735572, 0.014036228216245603, -0.02235086118522753, 0.006979359446748637, -0.031370126308323316, -0.0034579714487338745, 0.0075324938204262195, 0.02008195259664744, 0.006841956768086281, -0.005696932893695655, -0.006130280555545181, 0.005400988376169782, -0.012204190948543194, 0.0014048558927368317, -0.02280182434825006, 0.004421552727376393, -0.018221730713332742, -0.021815343244045545, -0.034977831612503556, -0.04450442726720127, -0.008004595677988615, -0.018771341427982167, 0.02821338230452042, 0.011830737108268992, -0.007990503835843765, -0.014289895344691748, -0.040614870218962595, 0.012246468337622923, -0.0012947574970063442, -0.014268756184490588, 0.017686210909505572, -0.0006733620085454548, -0.01499452470483783, -0.003500249303474899, 0.020955695238402804, -0.005689886972623231, -0.008899476548622547, -0.0073070122389149545, 0.010329875360438466, -0.013169533823869142, -0.019447787103838557, -0.004671696662455678, 0.0039247889819072745, 0.033963163098718975, -0.003107418132513615, -0.01961689666015747, -0.023816490999389456, 0.013204764826215151, 0.014134876699195092, -0.007363382867123419, -0.006683414929222763, -0.0032800522791832753, -0.026790030810760816, -0.009005170486983162, -0.0006729216093745972, -0.031792902061765785, 0.007877762579426838, 0.024422472807908643, -0.019053193172040604, 0.015797803479255995, 0.005570099795133878, 0.04081216532221638, -0.01009030100545976, -0.00296649202765375, 0.007497262352418915, 0.008110290547671822, 0.006940604785374473, -0.004999349454621996, 0.034977831612503556, -0.014529469699670453, -0.04267238906817627, -0.0005958526857971263, -0.004907747358406227, 0.020265156789078975, 0.012993376018171326, 0.0069723130600149175, 0.0016549995949854688, -0.005453835811011386, -0.013395015405380408, -0.07474714659929085, 0.004770344679743871, 0.028509326822046294, 0.017094321874453824, -0.013571172279755633, -0.010646958106842906, 0.017615748904813554, 0.01743254471238202, -0.017573470584411235, 0.003928311709612838, -0.012415579756587018, -0.028607976236318375, -0.024436565581376083, -0.01189415365754988, 0.017798953097245093, 0.0228863809890547, 0.007342244172583555, -0.0032342514639060395, -0.013979858053698434, 0.015741432385386233, -0.015811896252723435, -0.0018831234551065549, 0.009336346938177637, -0.0022266305010084186, -0.016812470130395392, 0.002291808879803385, -0.014571747088750182, 0.027452381850504578, 0.005319955860054593, 0.01920821181753726, -0.007469077271145331, -0.009308161391242756, -0.00815961432348527, -0.019983305045020543, -0.028692531014477832, -0.025888104484715756, -0.026000844809810093, -0.02147712040611735, 0.00458361775960677, -0.012922913082156717, -0.004410983612937109, 0.008934707550968554, 0.006845479961453141, -0.009991652522510271, 0.010372152749518193, -0.006014016571422688, -0.005379849681629917, 0.011175430592613765, -0.00148588840885202, -0.02330915860514235, -0.028509326822046294, -0.011379773945246462, -0.015797803479255995, -0.006753877865237372, 0.018221730713332742, 0.010914718008756492, 0.02290047376252214, 0.013810746634734337, -0.013592311439956793, 0.011365681171779022, 0.007292919931108811, 0.003352277044711962, -0.003139126407154059, -0.006112664588710881, 0.02099797169615994, 0.018264007171089877, -0.0036288442315507534, -0.005880136620465896, 0.0282415678514553, -0.017136600194856147, 0.009294068617775316, 0.015896451030882892, -0.0374581262151597, 0.004012867419094887, -0.018024433747433767, -0.009336346938177637, -0.008511929934880905, -0.005365756908162478, 0.0060422016526962725, -0.04554727760263036, -0.005302340358881589, -0.019969212271553103, 0.013916441504417546, -0.015797803479255995, 0.03323034632899283, -0.005164937680219233, 0.012020986756111657, -0.00918132829268098, 0.0032870986659169956, -0.029397160374623914, 0.019067285945508043, 0.019997397818487982, 0.017982155427031445, 0.00917428190594726, -0.014712672960779398, 0.0151213587347222, -0.012309884886903811, -0.0030757096250425228, -0.015304561995831144, 0.007222456995094203, -0.025507603326385242, -0.006225405379466514, -0.07987684908621241, 0.005760349908637839, 0.01920821181753726, 0.01744663748584946, -0.007997550222577487, -0.015064987640852439, 0.025507603326385242, -0.027635586042936117, 0.0018637462408347969, -0.01702385986976181, -0.01920821181753726, 0.020476546528445393, -0.0100691618452586, 0.0057462571351703995, -0.017559377810943796, -0.025423048548225784, 0.005006395841355715, 0.014247617024289427, 0.018898174526543944, -0.004076283968375775, -0.012690385113911733, 0.002321755557760399, -0.0014127830778122668, 0.026169956228774188, -0.0032624365451796233, 0.04591368598749344, -0.018545860777793497, 0.007342244172583555, -0.007912994513095437, 0.034752347237024514, 0.006975836253381777, -0.0366125709829844, 0.009308161391242756, 0.005584192102940023, -0.03483690387782916, -0.023083676092308495, 0.019264582911407018, -0.014839506059341175, 0.02753693849130922, -8.488588516890978e-05, -0.011506607043808239, 0.003401601053356058, 0.006581243718567711, -0.022745455117025484, 0.010421476525331642, 0.011767319627665512, -0.024478843901778406, 0.004749205985204006, 0.04233416623024807, -0.002534906195318302, 0.038980127123191384, 0.005700456087062515, -0.008899476548622547, -0.019053193172040604, -0.0012313408313101319, -0.0013819554850982136, 0.016460154518999758, -0.008829012681285347, 0.007666373771383013, -0.03153923586464223, 0.04148861099807277, -0.0071238085121447135, 0.04089672196302103, 0.0024521120825196836, 0.017192971288725906, 0.000620074349155979, -0.005168460407924796, 0.009132003585544939, 0.013860071341870377, -0.021420749312247588, -0.03252571883149193, -0.019997397818487982, -0.014459006763655845, 0.015459580641327802, -0.015064987640852439, -0.008962893097903435, 0.01233807043383869, 0.037063536008652115, -0.015332747542766026, -0.003945927676447139, 0.024507029448713285, -0.008793781678939338, -0.011915291886428448, -0.0015334509372280103, 0.01879952697491705, -0.0022618622018463707, -0.03421682929584253, -0.0021825912824146123, 0.004252441774073593, 0.004819668921218615, -0.04554727760263036, 0.01691111768202229, -0.005309386745615309, -0.009350439711645077, -0.017601656131346115, 0.013204764826215151, -0.0010877724478404462, 0.006440317846538495, 0.033568569166921025, 0.013000422404905046, 0.018024433747433767, 0.0030369549636683583, 0.0017448398616871593, -0.009801402874667606, -0.02188580524873756, 0.02346417725063901, -0.03227205263436838, -0.0354287929128809, -0.0014973386708789912, -0.009745031780797846, 0.01465630279823223, -0.010301689813503585, 0.017192971288725906, 0.025451234095160664, -0.016981581549359488, 0.0043052887432539, -0.015741432385386233, -0.022914564673344396, -0.0411222026132097, 0.01961689666015747, 0.006472026121178939, 0.01419829324847598, 0.007729790320663901, -0.003917742595173555, 0.036077053041802414, 0.0017633363940325263, 0.02554988164678756, -0.032948494584934394, 0.0015519474695733773, -0.015205914444204249, -0.010463754845733962, -0.005415081149637221, -0.01653061838633696, -0.010132578394539488, -0.011119060430066597, -0.01281721821247351, 0.007490216431346492, 0.01968736052749467, -0.02018060201091952, 0.08331544110878338, 0.019659174980559788, 0.0018496535837826808, 0.007299966317842531, 0.006295868315481122, 0.009554782132955181, -0.016502432839402077, 0.013909395117683826, -0.005756826715270979, -0.018052619294368646, 0.006693984509323344, -0.018094897614770965, 0.01633332142043798, -0.014459006763655845, -0.004287673242080897, -0.00663056749438116, 0.0032501056012262616, 0.023633288669603104, 0.0030140546724450644, -0.009991652522510271, 0.03872646092606783, -0.021420749312247588, 0.017996248200498884, 0.016812470130395392, -0.002820281365574243, -0.024337918029749186, 0.03368131135466054, -0.013077931727653374, -0.005397465182802922, -0.03900831267012626, -0.020871138597598163, 0.0019447786405346612, 0.0006275610186452325, -0.02822747507798786, 0.019800100852589007, -0.027381919845812563, -0.009329300551443917, -0.012641061338098284, 0.019264582911407018, 0.009963466975575392, -0.0017430782650037294, 0.03072186617940181, -0.009005170486983162, -0.017319804387287682, -0.012253514724356642, -0.00377681649031369, -0.03114464379548946, 0.001282426436637658, -0.0011141960488459243], 'contentVector': [-0.023287979184071765, -0.01744872837825013, -0.01308654674934887, -0.015833617642158036, -0.012348012626549956, 0.019961125547102967, -0.0283541838474871, 0.02885114128361468, -0.001680682595457455, -0.007744253845316092, 0.004834981955155236, 0.013052035661064032, -0.02247352085331071, 0.0187877522707086, -0.005307781815747939, -0.002574515684215602, 0.009594039702348333, -0.03981181486663641, 0.0073577312397742145, -0.005190444488108502, -0.005311232831444169, 0.03525636983948848, -0.016703292224058756, -0.024571786825390563, -0.0007670055261617386, 0.008627733886985551, 0.007488873095859842, -0.03696811460301028, 0.005432021174779834, -0.011892468310099673, 0.019063840976987316, -0.01402524443914182, 0.005721913012520924, -0.022942870163868458, -0.03901116059866028, -0.003428661393975202, -0.002690127504006924, -0.028823533158044846, 0.003651257028655999, -0.018898188498278123, -0.0016332299654811186, 0.021120692898067325, -0.0038134582588383275, 0.01111252106762346, -0.0015227950184800952, 0.006629550629725262, 0.011022792796876405, -0.011002085771376482, -0.013894102117394919, 0.03139114657803735, 0.04268312325583238, 0.027608747693295726, 0.004569247692949025, -0.03564289477333672, 0.013825080872147785, 0.011015890765483946, -0.006615746101279071, 0.02077558387786402, 0.0035252919289453528, 0.0029282529421513904, -0.0039756599546819284, -0.01143692399364939, -0.03070092853763074, 0.00917300647418289, -0.004941965770044712, -0.003937697850700859, -0.011319586666009953, 0.015902639818727714, -0.01079502017298999, -0.01566796516344884, 0.019243297518481427, 0.010401596001716928, 0.0049005526503674126, 0.023992003149908386, -0.01394932023117968, -0.010801923135704996, -0.019132863153556997, 0.0029161739215533143, 0.01038779193893201, 0.012603393376006206, 0.031446362829177024, 0.0023829801221234145, 0.01079502017298999, 0.020471887046015467, 0.011954588455276895, 0.004520932541879268, -0.005780581676340642, 0.011278173546332653, -0.030618102298276145, -0.002817817878735049, 0.002186267803656247, 0.010981379677199107, 0.007544090278322058, 0.016979380930337476, -0.018925796623847958, 0.01820796859522642, 0.013134861900418628, 0.028630272553765816, -0.0009706200506443426, -0.02854744631441122, 0.003530468685320333, 0.016730902212273684, -0.01713122748361666, 0.010332573825147247, -0.03249549767786204, -0.02707037806881339, 0.02018199427695183, -0.0040377796341978765, -0.003126690768466673, -0.032026148367304295, -0.020278626441736437, 0.023426023537211123, 0.017807643323883446, -0.03716137520728931, 0.023605480078705235, 0.0016246023098252268, 0.0077718624365471995, 0.007233491880742319, 0.001714330696987601, -0.024875481794594024, 0.0025796924405905824, 0.032108972744013795, -0.005214602529304654, -0.005570065062257921, 0.012389425746227254, 0.015902639818727714, -0.0034769767778755956, 0.005131776289950057, -0.000174819457431025, -0.003937697850700859, 0.01916047127912683, 0.011726815831390479, 0.025869396666849186, -0.001439106025201441, -0.03525636983948848, 0.04599617283001626, -0.028768315044260084, 0.012907090207854759, -0.03152919093117671, -0.023218957007502084, 0.020803192003433855, 0.028091901066638388, -0.038900728096380933, 0.009090180234828292, 0.005552809518115501, -0.0026556164157220843, -0.004289709367957897, 0.015074376493859199, -0.0005405274988226829, -0.00844827734549144, 0.03793442134969561, -0.01420470098063593, -0.0007208471434868065, -0.01031876976236233, 0.012651708527075964, 0.02159004034597998, -0.013749156664185646, 0.006743436941668469, -0.005991098290423364, -0.025262004865797175, 0.007433655447736353, 0.018539273552644807, 0.010877846412344587, 0.002890290838170321, 0.018470253238720223, 0.029292882468602593, -0.02992788239522444, -0.024254285930757093, 0.01201670766913157, -0.01356279715997653, -0.028823533158044846, 0.029845056155869843, -0.0022690940430108437, 0.002883388573947226, -0.017752425210098684, 0.044422476144924006, -0.019616016526899663, 0.009324854890107166, -0.015281442092245691, 0.0106776837766731, -0.013618015273761292, 0.0035408219652396577, 0.020609931399154825, 0.03876268374324158, -0.01699318499312239, 0.0031232397527704435, 0.0381000738284048, -0.0021051670721497647, 0.0003897578745494329, 0.0005323311619211608, 0.004738351187354448, 0.006412131984250081, -0.0018187262501049043, -0.0034183081140558773, -0.6290377188881412, -0.024682221190314997, -0.004786666804085479, -0.02243210866495596, 0.015944052007082467, 0.03296484698841979, 0.048536179987084024, 0.009269636776322403, -0.012527469168044068, 0.03315810759269881, -0.01485350683268779, 0.029320490594172428, 0.003527017669624104, -0.001911905769378826, 0.013362634524305042, -0.018097534230301988, 0.002327762473999926, -0.006122240146508992, 0.009179908505575348, 0.021631454396979825, -0.0007773588060810632, 0.030562884184491382, 0.00815838550775035, -0.005911723066764997, 0.012920894270639676, -0.0021672867516657124, -0.010691487839458017, -0.02918244624103307, -0.012706926640860726, 0.017034597181477144, -0.015433290508169967, 0.001779038754691039, 0.01635818320385545, 0.010587954574603497, 0.04144073152815852, -0.03139114657803735, -0.014066657558819117, -0.0008347332225993773, 0.045637259747028036, 0.021134496960852244, -0.01258958931322129, -0.003879029186881141, 0.026587224695470726, 0.001385614001341385, 0.012085729845701249, -0.008206700658820107, 0.03343419257368735, -0.010028877924621241, 0.008890016667834259, -0.018691121968569084, 0.0018066474623374652, -0.019767863080178846, 0.0021224226162921845, 0.001540050446207197, 0.015433290508169967, -0.001065525077766379, 0.02580037449027951, -0.009152300380005514, 0.0163995972548553, 0.0039031867624160195, 0.0020741072323917907, 0.03478702425422092, -0.017269271836756018, -0.023287979184071765, -0.006484604710854717, -0.017352098076110614, -0.0035339197010165625, 0.009083278203435834, 0.015419485514062505, -0.03901116059866028, 0.010311867730969872, 0.008220504721605024, -0.01201670766913157, -0.011450728056434307, -0.0016021701257231446, 0.030093534873933635, 0.005597673653489029, -0.019643624652469497, 0.004893650618974954, 9.180448337958305e-06, -0.014784484656118108, 0.018290794834581018, -0.01790427362602296, -0.010015073861836324, 0.007157568138441454, -0.008393059231706678, -0.01679992252619827, 0.003204340251446289, -0.013859591960432625, 0.0030680221046469544, 0.011126325130408378, 0.003996366514520578, 0.00808936333118067, 0.003378620502226693, -0.0011000360496359004, -0.0003179319805572035, -0.008779582302909827, -0.004690036036284691, 0.021231127262991756, 0.00279366030320017, -0.0111470321559083, 0.0028885653303222067, -0.006205066385863589, -0.005721913012520924, 0.025427657344506367, 0.010173823377830512, 0.000518095431135919, -0.014045950533319194, 0.02384015473398411, 0.00037293379468053035, 0.03241266957586235, 0.009594039702348333, -0.0042517472639768275, -0.0040101705773054955, 0.010919259532021885, -0.02822994541977775, 0.026545810644470882, 0.00442430177407848, -0.0040308771371441445, -0.011443826025041848, 0.027180812433737822, -0.014605028114623997, 0.0013692213275383405, 0.006322403247841752, 0.0240886334520479, 0.013583504185476453, -0.0033078730506395353, -0.01700698905590731, -0.016772314400628437, -0.011830348164922452, 0.0004350534741964781, 0.0105051283352489, 0.018884384435493208, 0.0009231675370833244, -0.008682951069447766, 0.002151756715371407, 0.010870944380952128, -0.014356549396560206, 0.0354496341690577, -0.011291977609117572, -0.012720730703645643, -0.006764143501507118, 0.0012398053285467827, -0.019892103370533286, -0.004769411259943059, -0.04864661621465355, 0.005176640425323585, 0.00869675606355523, -0.005111069730111408, 0.028202335431562822, -0.0012700024143806994, -0.02713940024538307, -0.014190896917851012, 0.01532285521192299, 0.002843700962118042, -0.014384157522130042, -0.006101533586670343, -0.01284497006267754, -0.014632636240193833, -0.005742619572359573, 0.026131679447697898, 0.037768768870986416, -0.030949407255694533, -0.005442374687529796, -0.026269723800837256, -0.007972026003541233, -0.00552174944552689, 0.016330575078285618, -0.00942838722363914, -0.028188531368777903, -0.004365633110258762, -0.017034597181477144, -0.022652977394804822, 0.019836885256748524, 0.007316318120096916, -0.008531103584846036, 0.01053963942353374, 0.0038065562274458686, 0.01750394649203489, -0.012216871236125602, 0.005066205129076607, 0.002260466270939634, 0.012824263968500163, 0.0009481879247499195, 0.020872214180003533, 0.02072036576407926, 0.021424387867270786, 0.0023105071626881423, -0.02076177795243401, 0.017103619358046825, -0.019974929609887886, 0.004151665480479811, 0.012575785250436372, 0.0035442729809358874, -0.008931429787511557, 0.018911992561063042, -0.04055725288347287, 0.01079502017298999, 0.020292430504521355, 0.0310046235068342, 0.04163399213243754, -0.0027315406236842225, 0.01713122748361666, -0.012520567136651608, 0.03302006323955946, -0.035145937337209145, -0.006108435618062801, -0.011692304743105638, 0.031115059734403726, 0.007820177587616956, 0.009925344659766721, -0.0057322665252708856, 0.0035408219652396577, -0.03197093211616463, -0.009110887260328215, -0.002738442655076681, -0.007909906789686559, 0.01668948816127384, 6.71345531148493e-05, 0.00345281896951008, -0.009338658952892084, -0.004351829047473844, 0.026959941841243867, -0.010767412047420155, -0.003263008915266008, 0.005307781815747939, 0.027291246798662253, 0.011278173546332653, 0.009580235639563416, -0.012810458974392699, -0.004386339670097411, 0.007509579655698491, 0.0033458351546206046, -0.0026331843480353204, 0.027539725516726045, 0.03506310923520945, 0.01035328085064717, -0.024571786825390563, 0.03221940897158332, 0.0073991443594515136, 0.01525383303535331, 0.011499043207504065, 0.033075279490699126, 0.0021137948442209744, 0.012023609700524027, -0.01034637881925471, 0.021120692898067325, -0.005804739251875521, -0.004369084591616264, -0.0031594761160727617, -0.0008735580222968447, -0.0030059024251310068, -0.018097534230301988, -0.001989555485189079, 0.020278626441736437, -0.00891762572472664, 0.03255071392900171, -0.005583869125042838, 0.018718731956784012, -0.00208618602015923, -0.013845786966325161, 0.009062571177935911, -0.002669420944168275, 0.014218505043420848, 0.006809007636880646, -0.02121732320020684, -0.014246114100313229, -9.74933907576118e-05, -0.017352098076110614, 0.011291977609117572, -0.012948503327532057, 0.0026935785197031536, 0.006229223961398468, -0.0011466258092728613, 0.03854181128810253, 0.010394693970324468, 0.0245165687116058, -0.008116972388073051, 0.03812768195397463, -0.0006535508240111964, -0.046769218972422553, -0.031225494099328156, 0.009290343801822327, 0.03760311639227722, 0.003547724229462753, 0.0023847056299715294, -0.019339927820620943, 0.002957587041230613, 0.004765960244246829, 0.04318008069195996, -0.012637904464291047, 0.035753327275616066, -0.01606829229743691, -0.01034637881925471, -0.009656159847525554, -0.017269271836756018, -0.006981562146982299, -0.0177662292728836, -0.017738621147313765, 0.012568882287721366, -0.005804739251875521, -0.02606265913377331, -0.014839701838580325, 0.012969209421709434, 0.03401397811181462, 0.025620917948785397, 0.011609478503751042, -0.015074376493859199, -0.004075741272517672, -0.019850689319533443, 0.01790427362602296, -0.02020960426516676, -0.018884384435493208, -0.0037168277238681766, -0.006394876440107661, -0.00238988238634651, -0.03180527963745543, -0.024613199013745316, 0.013176275020095926, -0.019408949997190623, -0.003923893322254669, -0.010801923135704996, -0.019961125547102967, 0.012203067173340685, 0.059524459833030494, 0.00445881286236332, 0.010864042349559669, 0.011250564489440272, -0.009352463015677001, -0.008503494527953655, -0.01744872837825013, -0.018304600760011027, 0.002282898338626398, -0.014114972709888875, -0.018097534230301988, 0.015695573289018674, 0.0027971113188964, -0.011250564489440272, -0.0035718818049976318, 0.003263008915266008, 0.011678500680320721, -0.0052284065920895715, -0.020016341798242635, -0.04953009485933919, 0.01616492259957642, 0.007647623077515304, 0.02535863516793669, -0.002622831068115996, 0.01402524443914182, -0.036609201520022054, 0.012913992239247218, 0.02077558387786402, 0.0025313770566901886, 0.003644354764432904, -0.018967210674847804, 0.026076463196558226, -0.00038673817760757304, 0.04453291237249353, -0.003252655635346683, 0.005518298429830661, 0.0237435225691995, -0.027802010160219846, -0.021810910938473937, 0.02171428063633442, 0.044477692396063674, 0.004410497711293563, 0.008834799485372044, -0.009255832713537486, 0.0049005526503674126, -0.01899481880041764, -0.009566431576778498, 0.013424753738159717, -0.014370353459345123, -0.02403341533826314, 0.027677769869865403, 0.00778566696499339, -0.011581869446858661, -0.006746887957364699, 0.026752877174179922, -0.0010637995699182643, 0.014039048501926736, 0.0030386877727370952, -0.019850689319533443, -0.012251382324410443, -0.03666441777116172, -0.013797471815255404, 0.020844604191788605, -0.0020982648079266694, -0.034731804277791066, -0.033102887616268964, -0.021935151228828376, 0.014149483798173714, -0.01987829930774837, 0.011374803848472169, 0.019270905644051265, -0.048757048716932885, -0.007198981258118752, 0.008268819872674782, 0.01312105783763371, -0.020968844482143048, 0.010643172688388259, -0.009000451964081236, 0.001276041808264419, 0.019574602475899816, -0.023715914443629665, -0.01573698734001852, -0.0003338933065020487, -0.04077812161332174, 0.006684768277848751, 0.005960038683496027, -0.00971137702998777, -0.010180726340545518, 0.006111886633759031, 0.02164525845976474, -0.006125691162205221, -0.01309344878074133, 0.012120240933986087, 0.004658976429357354, 0.0012406680824708402, -0.00153314829839942, 0.0009481879247499195, 0.05055161785716419, -0.002712559571693688, 0.011775130982460236, 0.00927653973903741, 0.004765960244246829, -0.01656524973356449, -0.007585503397999356, 0.037216591458428976, -0.009366268009784465, -0.015626551112448997, 0.023384609486211277, -0.004351829047473844, -0.00474870470010441, -0.02970701366537558, -0.013376438587089961, -0.0014831074066509115, -0.013486873883336938, 0.001604758503910635, 0.002643537627954645, 0.021313953502346352, 0.006080827026831694, -0.0033372073825493945, 0.003972208473324426, -0.003409680341984667, -0.024212871879757247, 0.011340293691509875, 0.02814711918042315, 0.0004771136884206492, 0.04064007726018238, 0.011133228093123382, 0.0024623553457817824, -0.027567335504940973, 0.010242845554400191, 0.005552809518115501, 0.009656159847525554, 0.0015193438863685476, 0.008324037986459544, -0.022321672437386433, -0.008241211747104947, -0.013963124293964598, 0.006570881965905543, -0.03230223707358301, -0.027153204308167988, -0.006060120466993044, 0.026932333715674033, 0.016330575078285618, 0.011692304743105638, 0.003930795353647128, -0.020872214180003533, -0.022956674226653376, 0.013514482008906772, -0.002886839822474092, 0.022252650260816756, -0.0005914311444952487, -0.00812387441946551, 0.009904638565589345, -0.012603393376006206, -0.011768228951067777, -0.02248732491609563, -0.0030059024251310068, 0.002253564006716539, 0.02466841712753008, 0.015750791402803437, 0.05110379154443143, -0.029541361186666382, -0.009628550790633173, 0.018539273552644807, -0.01820796859522642, 0.015944052007082467, -0.021700476573549503, 0.01140241290536455, -0.019201885330126678, 0.00474870470010441, 0.026421572216761533, 0.002006810796500862, 0.0282713576081325, -0.0006768457038296769, 0.011775130982460236, 0.010512031297963905, -0.001508990606449223, -0.02440613434668137, 0.011209151369762974, -0.017862859575023114, 0.001615974537754017, -0.013300514379127822, -0.01903623098877239, 0.023729718506414584, -0.04848096373594435, -0.010373986944824547, 0.03793442134969561, -0.0009481879247499195, 0.0019377889691771376, 0.013362634524305042, -0.0038376160672038426, -0.01707601123247699, 0.009573333608170958, -0.003283715475104657, 0.030673318549415813, -0.015930247944297548, 0.019132863153556997, -0.007412948887897704, 0.0149915502545046, 0.017572968668604572, 0.012541274162151532, 0.0008921076973253506, -0.004638269869518705, 0.022763413622374346, -0.02019580020238184, 0.014163287860958631, 0.024116241577617735, -0.009145397417290509, 0.0013864768716807605, -0.011726815831390479, -0.016882748765552867, -0.03934246555607866, -0.0069228934831625805, -0.023936785036123624, 0.013680134487615967, 0.007205883289511212, 0.016523835682564644, 0.026973747766673876, -0.03150158280560687, -0.0017005262849567285, -0.0024054121898101784, -0.00967686594170293, 0.021783302812904103, 0.006443191591177419, 0.003827262787284518, 0.024281894056326928, -0.01899481880041764, -0.01693796687933763, 0.008786484334302286, -0.005815092764625483, 0.0088831146364418, 0.019836885256748524, 0.010801923135704996, -0.014536005938054318, -0.017490142429249976, 0.0017367627646743648, -0.0015193438863685476, -0.0022242296748066796, -0.039314857430508825, 0.012382523714834797, 0.01982308119396361, 0.01616492259957642, -0.013880298054610002, -0.020126778025812163, -0.01816655640687167, -0.0004948005513174386, 0.007323220617150648, 0.01628916102728577, 0.025331027042366856, -0.002037870636258836, 0.006636452661117721, 0.016082096360221825, -0.025248200803012256, 0.01668948816127384, 0.011105619036231001, -0.014108070678496416, 0.008227406752997483, -0.008324037986459544, -0.0263939640911917, -0.0026797742240875994, -0.018760144145138765, 0.01950558029933014, -0.0024606296051030313, -0.013466166857837017, 0.009449094249139062, -0.0007299062925200451, 0.0021137948442209744, -0.023784936620199346, -0.011713011768605562, 0.024875481794594024, -0.007930612883863935, -0.013286710316342905, 0.010090997138475916, -0.015723181414588512, 0.008427570319991516, 0.0010965849175243528, -1.987074878482522e-05, -0.01795948987716263, -0.009076376172043375, -0.008047950211503372, -0.012140947028163464, 0.04823248315523547, -0.008648439981162926, -0.013680134487615967, -0.0017341745029021928, -0.02320515294471717, -0.012748339760538024, -0.021065474784282563, 0.014646441234301297, -0.02689092152731928, -0.015695573289018674, 0.005435472190476064, -0.030673318549415813, 0.008482787502453733, 0.01689655469098288, -0.00477976477269302, 0.0022880750950013784, 0.034952676732930114, -0.01140241290536455, 0.005059303097684148, -0.007709742757031252, 0.030480057945136786, -0.020444278920445633, 0.012679317583968345, 0.01689655469098288, 0.006332756760591714, 0.012278990449980277, 0.020789387940648937, -0.04342856127266884, -0.03296484698841979, -0.009090180234828292, 0.04102659846874044, -0.0003880323375974886, -0.0018049219544893505, 0.04141312340258868, 0.005973842746280944, 0.020540909222585148, 0.0025020427247803294, -0.00974588811827261, 0.03602941598189478, 0.005045498569237958, 0.024061023463832973, 0.027594943630510807, -0.011574967415466202, -0.010939966557521807, -0.015833617642158036, 0.0040308771371441445, -0.016468617568779882, -0.01718644559740142, -0.006750338973060928, 0.018318404822795946, 0.015157202733213795, 0.013431655769552176, -0.03917681307736947, -0.029789839904730175, 0.008462081408276357, -0.014687854353978595, 0.008572516704523334, 0.022570151155450226, -0.006777947564292036, 0.008676049038055307, -0.010905455469236968, -0.006702023821991171, 0.017476338366465057, -0.007661427605961495, 0.016344379141070533, 0.013583504185476453, -0.006149848737740099, -0.02970701366537558, -0.008979744938581315, -0.009649257816133096, 0.02782961828578968, -0.0005323311619211608, -0.02269439144580467, -0.023757328494629512, -0.045305954789609644, -0.05066205408473371, -0.021286345376776518, -0.0218661290522587, 0.014867310895472706, 0.027374073038016852, 0.023619284141490154, -0.009055669146543453, 0.012541274162151532, 0.005708108484074733, 0.009193713499682812, 0.009110887260328215, -0.017931881751592795, 0.009455996280531521, -0.000595313653568825, -0.01258958931322129, 0.016344379141070533, -0.03729941956042866, -0.024295698119111846, -0.019257101581266346, 0.0061049846023665715, 0.00812387441946551, 0.005224955576393342, -0.019229493455696512, -0.014356549396560206, 0.0030335112491927515, 0.016151118536791506, -0.0036132949246749303, 0.01942275405997554, -0.006405229487196349, -0.045885740327736915, 0.0013424753738159718, 0.0029092718901608558, 0.023218957007502084, -0.006622648598332803, 0.018691121968569084, 0.003875577938354275, 0.01107800997933862, -0.0033510119109955855, -0.010656976751173176, 0.008876212605049342, -0.012534372130759072, -0.012900187245139754, 0.0029886471138192237, 0.01993351555888804, 0.0005383706140125396, 0.027871030474144434, 0.012976111453101893, -0.01366633042483105, -0.002522749284618979, 0.010118606195368297, -0.024889285857378943, -0.013065839723848949, 0.017876663637808033, -0.020596125473724816, 0.004634818388161202, 0.003283715475104657, 0.005891016506926347, -0.0018773949139246227, 0.014674049359871131, 0.02611787538491298, -0.02268058738301975, -0.04848096373594435, -0.00019833002573051972, -0.005863407915695239, -0.04370464997894756, -0.017379706201680452, -0.010560346449033663, 0.006881480363485282, 0.015419485514062505, -0.01637198726664037, 0.03166723528431607, -0.030977015381264367, 0.026918529652889114, 0.005432021174779834, -0.02668385499761024, -0.0044450083339171295, 0.01994732148431805, -0.0025192982689227496, -0.00016144646601792573, 0.009732084055487693, 0.19403428744605675, -0.003854871378515626, 0.01867731790578417, 0.03879029186881141, -0.027788204234789837, -0.0010931339018281235, 0.005204249016554693, -0.014701658416763512, -0.014605028114623997, 0.011926979398384514, 0.010422302095894303, -0.020844604191788605, -0.025938418843418867, 0.011298880571832577, 0.010919259532021885, 0.01795948987716263, -0.04050203290704302, -0.017862859575023114, -0.03967377051349705, 0.02918244624103307, -0.017738621147313765, -0.004382888654401181, 0.0067054748376874, -0.01732448995054078, 0.027760596109220003, -0.019546994350329982, -0.015695573289018674, 0.016482423494209895, 0.0041240568892487025, 0.012631002432898587, -0.03147397468003704, -0.018691121968569084, 0.004255198279673057, -0.029568969312236217, -0.02789864046235936, -0.0054699832787609036, 0.010732900959135315, 0.011892468310099673, -0.0011267820033582694, 0.01834601294836578, -0.0018083729701855798, -0.0005504494017799789, 0.004348378031777615, -0.025068744261518144, -0.026007441019988548, 0.015240028972568393, -0.0069228934831625805, -0.0047625092285506, -0.020347646755661024, -0.03244027770143219, -0.036830070249870915, 0.0034303869018233162, 0.0053353904069790474, 0.03959094613678755, 0.004051583696982794, -0.005435472190476064, -0.007654525574569036, 0.010960672651699184, -0.0016254650637492843, -0.0032440278632754733, -0.004479519422201969, -0.0005638223786411633, -0.007136861578602805, -0.0026556164157220843, -0.03583615537761575, 0.015336659274707906, -0.002301879390616932, -0.0017428022749734027, -0.010090997138475916, -0.043842690606796735, 0.016233944776146102, 0.010532737392141282, -0.01885677444727828, 0.024999722084948467, 0.00859322279870071, -0.01820796859522642, 0.02962418742602098, 0.016344379141070533, 0.0033630906987630244, 0.01298301348449435, -0.025952222906203786, -0.004279355855207935, -0.02578657042749459, -0.02076177795243401, -0.00798583006632615, -0.02548287545829113, 0.035780939126476084, 0.0030110791815059876, -0.01815275234408675, 0.007806373524832039, -0.0014736168806556442, -0.0038686759069618167, -0.010187628371937976, 0.0030766498767181645, 0.010373986944824547, 0.0316948434098859, 0.0056701468457549375, -0.002408863205506408, 0.0048211778923703185, 0.010981379677199107, -0.019533190287545067, 0.06719969010479308, -0.006035962425796892, -0.010850238286774751, 0.0027677769869865402, -0.008551809679023413, 0.003380346010074808, 0.02070656170129434, 0.0030024514094347775, -0.034124414339384145, -0.017572968668604572, -0.04326290879395965, 0.011105619036231001, -0.019905907433318205, -0.018566883540859735, 0.02273580363415942, -0.015819813579373117, -0.022514934904310557, 0.02070656170129434, -0.027871030474144434, 0.009607844696455797, -0.00724729640918851, -0.005835799324464132, 0.003035236757040866, -0.009787301237949908, -0.0149915502545046, -0.012624100401506128, 0.008206700658820107, -0.0033216775790857263, -0.03166723528431607, 0.003366541714459254, 0.016606661921919244, 0.01845644731329021, -0.011126325130408378, 0.0036409037487366747, -0.01765579490795917, 0.021396779741700952, -0.02025101645352151, 0.003087003156637489, 0.0035166643897047794, 0.022307868374601518, -0.008379255168921759, 0.03346180442454737, -0.004068839241125214, 0.005190444488108502, -0.026739073111395003, 0.02234928242560136, -0.007316318120096916, -0.022501128978880545, -0.017572968668604572, -0.006008353834565785, -0.03177766778659541, -0.0004052877944284198, 0.005376803526656346, 0.019464168110975386, 0.016882748765552867, -0.013079644717956413, -0.023467435725565877, 0.008765777308802363, -0.0006915128697846065, -0.03832094255825366, 0.012313501538265116, 0.02981744803030001, -0.017531554617604726, -0.008793386365694744, 0.008979744938581315, -0.17813164948997412, 0.0007631230752958214, 0.007744253845316092, -0.007923710852471476, 0.008586320767308251, -0.00910398429761321, 0.017862859575023114, 0.023426023537211123, -0.007157568138441454, -0.007433655447736353, 0.026918529652889114, 0.00866914700666285, 0.017862859575023114, -0.014508396881161937, 0.011989098612239187, -0.01848405730150514, -0.03257832205457154, 0.003406229326288438, -0.0021448546839789484, 0.005010987946614391, 0.018870578510063196, -0.02636635410297677, -0.004966123811240863, -0.004469165909452008, -0.013224590171165684, 0.006712376869079858, -0.03567050289890656, 0.01248605604836677, -0.025400049218936533, -0.004517481526183038, 0.0070816439304793154, -0.007972026003541233, 0.012976111453101893, 0.026407768153976614, 0.0010767412280250793, -0.006035962425796892, -0.01848405730150514, 0.014018341476426813, -0.017780033335668518, 0.03362745690325657, -0.01175442488828286, 0.018539273552644807, 0.015295246155030608, 0.005190444488108502, -0.01797329580259264, 0.020540909222585148, 0.0013390242417044241, 0.015723181414588512, -0.00011334685063407763, -0.02840940196127186, 0.010263552579900114, -0.028133315117638235, -0.0024192164854257327, 0.003961855426235738, 0.0013683585736142833, 0.009690670935810395, -0.00555626053381173, -0.01319698204559585, 0.014439375635914804, -0.01649622755699481, 0.006605393054190383, -0.024696025253099912, 0.005859956899999011, -0.02185232498947378, -0.01762818491974424, -0.033268540094978157, -0.028492228200626458, 0.013873396023217542, -0.013728449638685724, 0.02752592145394113, -0.008834799485372044, 0.0015374621844350248, -0.015833617642158036, -0.012272088418587818, 0.0155023117534171, -0.0069021869233239315, -0.005987647274727135, 0.03031440546642759, -0.0032871664908008863, -0.01822177452065643, -0.008758875277409905, 0.030590492310061217, -0.0029558615333824985, -0.007295611560258267, 0.025510483583860967, 0.01624774883893102, -0.011499043207504065, -0.010656976751173176, 0.010532737392141282, -0.0062740880967719955, 0.03343419257368735, -0.004310415927796546, 0.00017492730167153214, -0.009704474998595312, 0.005787483707733101, 0.021686672510764587, -0.006833165212415525, -0.014370353459345123, 0.0006578647100468014, -0.01344546076365964, 0.014342744402452742, -0.011015890765483946, -0.015184811790106176, -0.010843336255382294, 0.017711011159098837, -0.006560528918816855, -0.013907907111502383, -0.004845335467905197, 0.0463826977638645, -0.018898188498278123, -0.026725269048610084, 0.010622465662888337, 0.01535046426881537, -0.00611533764945526, 0.008586320767308251, 0.005984196259030906, -0.004593405268483904, -0.023426023537211123, 0.005984196259030906, 0.003356188434539929, 0.03522876171391865, -0.0012950228602549537, 0.014190896917851012, 0.013493775914729398, -0.015391877388492669, -0.024226675942542165, -0.0626166444026557, -0.020899822305573367, 0.017269271836756018, 0.016454813505994967, -0.0327163664077109, 0.029651795551590816, -0.00469348705198092, 0.0011561163352681286, -0.0021103435956941084, 0.019740254954609012, 0.02962418742602098, -0.03663680964559189, -0.02152102003205539, -0.026545810644470882, 0.032937235137559764, 0.01938134187162079, 0.016441009443210048, -0.012748339760538024, -0.0003563254032926422, 0.022583955218235145, -0.0077787649336009314, -0.0038962844981929243, -0.0065743329816017725, -0.010788118141597532, -0.01606829229743691, -0.009828714357627206, -0.028036682952853626, 0.03158440718231638, 0.008972842907188855, 0.007171372201226371, -0.006608844069886612, -0.004393242167151143, -0.007744253845316092, -0.01568176922623376, -0.04643791401500417, -0.010712193933635393, -0.03139114657803735, -0.015074376493859199, 0.007043681826498247, -0.03296484698841979, -0.004734900171658219, -0.0029593127819093645, 8.110069512669535e-05, -0.034731804277791066, 0.02218362994689217, -0.010042681987406158, -0.014908724015150004, 0.02887875127182961, -0.009317952858714708, -0.014701658416763512, -0.029734621790945413, -0.016979380930337476, -0.0029748425853730327, 0.0030335112491927515, 0.016882748765552867, 0.010208334466115352, 0.01616492259957642, 0.02628352786362217, -0.020747973889649093, 0.01236871965204988, -0.022528738967095473, -0.0003899735630304472, -0.021728084699119337, 0.01707601123247699, -0.007675232134407685, -0.003644354764432904, 0.003720278739564406, -0.015378072394385205, 0.03083897102812501, -0.028961577511184205, -0.009359365978392006, 0.0033337563668531653, -0.03299245511398962, -0.020264820516306428, -0.027415487089016696, -0.014701658416763512, -0.012686219615360803, -0.003723729988091272, 0.00724729640918851, -0.025814180415709518, 0.0006332756411345759, -0.03249549767786204, -0.0018911992095401768, -0.01898101473763272, -0.0056908534055935866, 0.03829333443268383, 0.005742619572359573, 0.002029243097018263, 0.002357096805909785, -0.034593759924651704, 0.013907907111502383, 0.022059389656537726, 0.006467349166712297, 0.0077718624365471995, -0.018180360469656584, 0.013894102117394919, 0.008620831855593092, -0.011423119930864473, -0.002243210726797214, 0.007654525574569036, -0.01935373188340586, -0.006595039541440422, -0.07923710852471476, 0.015309051149138072, 0.009469800343316438, -0.004776313291335517, -0.010670780813958095, -0.010891651406452051, 0.02069275763850942, -0.01258268728182883, 0.003401052569913457, 0.008441374382776434, -0.035974199730755115, 0.018815362258923527, -0.00866914700666285, -0.011022792796876405, -0.02114830102363716, -0.004265551792423018, 0.025206786752012413, -0.002063753952472466, 0.009414583160854221, -0.0013692213275383405, -0.015157202733213795, -0.004541639101717917, 0.00808246129978821, 0.007978928034933693, -0.00022173276434142206, 0.03302006323955946, -0.005849603387249049, 0.024226675942542165, -0.026656246872040407, 0.006046315938546853, 0.022583955218235145, -0.03216419272044365, -0.004993732402471971, 0.030480057945136786, -0.00973898608688015, -0.018401231062150542, 0.004672780492142271, 0.012713828672253184, 0.011671598648928264, 0.0032267725519636897, 0.00530433080005171, -0.0047935688354779375, -0.004082643769571404, -0.0005474297048381191, 0.023729718506414584, 0.001604758503910635, -0.013238395165273148, 0.009683768904417935, 0.05259466385281418, 0.024544176837175635, 0.04215855769413496, 0.002305330406313162, -0.012168556085055845, -0.018056122041947238, -0.0029731170775249183, -0.0019239846735615836, 0.01656524973356449, -0.007626916517676655, 0.013535189034406696, -0.01366633042483105, 0.03158440718231638, 0.007999635060433614, 0.04583052035130706, -0.0016056212578346924, 0.005373352510960116, 0.014922528077934922, -0.014563614994946699, 0.027857226411359515, -0.007965123972148774, -0.016855140639983033, -0.024475154660605958, -0.013528287003014236, -0.017890469563238042, -0.021576236283195063, -0.002688401763328173, 0.0006837479098451129, -0.024268089993542012, 0.049171181776350964, -0.030921797267479605, -0.006249930521237117, 0.03671963402230139, -0.012030511731916486, -0.050800098437873066, -0.010691487839458017, 0.03249549767786204, 0.003554626260855212, -0.022335476500171352, 0.008427570319991516, 0.008745071214624988, 0.008613929824200634, -0.0237435225691995, 0.020886018242788452, -0.011464533050541771, -0.017614380856959325, -0.005804739251875521, 0.03155679905674655, -0.005114520745807637, -0.003792751698999678, 0.01801470799094739, 0.023867762859553943, 0.015598942986879161, 0.018760144145138765, -0.003012804689354102, -0.01599927012086723, -0.05140748837627999, 0.021093082909852397, -0.017931881751592795, -0.04130268717501916, 0.0024347465217200376, -0.00971137702998777, 0.029845056155869843, -0.012741437729145565, 0.018939600686632876, 0.016220138850716093, -0.025372439230721605, 0.014618832177408916, -0.01713122748361666, -0.0017367627646743648, -0.03613985220946431, 0.03964616238792722, -0.0163167710155007, 0.010815727198489913, 0.02081699606621877, -0.004914357178813603, 0.01713122748361666, -0.015281442092245691, 0.019546994350329982, -0.0456096516214582, -0.013749156664185646, -0.007302514057311998, -0.006353463320430363, 0.02381254474576918, -0.010532737392141282, -0.016661880035704006, -0.017089815295261906, -0.016220138850716093, 0.003996366514520578, 0.004431204271132212, -0.002426118749648828, 0.07393622920602055, 0.01936753780883587, -0.013134861900418628, 0.01258268728182883, 0.002386431137819644, 0.01619253072514626, 0.01668948816127384, 0.0005551946647776125, -0.023357001360641443, 0.006536371343281977, 0.02215601995867724, -0.002867858770483557, 0.024765047429669593, -0.009152300380005514, -0.01873253601956893, 0.000955952884689413, 0.0028661332626354428, 0.04251747077712318, 0.004065388225428984, -0.0009076376172043375, 0.033075279490699126, -0.031225494099328156, 0.021479605981055548, 0.020264820516306428, -0.039508118034787855, -0.010021975893228782, 0.036802462124301084, -0.011630185529250965, -0.038486595036962855, -0.01586122576772787, 0.0022414852189490994, 0.012037414694631491, -0.0061187886651514894, -0.04580291222573723, 0.023232761070287003, -0.010560346449033663, 0.01111252106762346, -0.004610660812626324, 0.031888104014164934, 0.005442374687529796, 0.013045133629671572, 0.005345743919729008, -0.016427205380425133, -0.0019412401012886852, -0.03589137162875542, -0.01200980563773911, -0.0134109496753748, 0.01751775055481981, -0.009904638565589345]}\n"
     ]
    }
   ],
   "source": [
    "print(dict_data[0])"
   ]
  },
  {
   "cell_type": "code",
   "execution_count": 63,
   "id": "a3fdbced",
   "metadata": {},
   "outputs": [],
   "source": [
    "def setup_vector_store(AZURE_SEARCH_SERVICE_ENDPOINT, AZURE_SEARCH_ADMIN_KEY, AZURE_SEARCH_INDEX_NAME,embeddings):    \n",
    "    return AzureSearch(\n",
    "        azure_search_endpoint=AZURE_SEARCH_SERVICE_ENDPOINT,\n",
    "        azure_search_key=AZURE_SEARCH_ADMIN_KEY,\n",
    "        index_name=AZURE_SEARCH_INDEX_NAME,\n",
    "        embedding_function=embeddings.embed_query,\n",
    "    )"
   ]
  },
  {
   "cell_type": "code",
   "execution_count": 69,
   "id": "d2381ea7",
   "metadata": {},
   "outputs": [
    {
     "ename": "AttributeError",
     "evalue": "'dict' object has no attribute 'page_content'",
     "output_type": "error",
     "traceback": [
      "\u001b[0;31m---------------------------------------------------------------------------\u001b[0m",
      "\u001b[0;31mAttributeError\u001b[0m                            Traceback (most recent call last)",
      "Cell \u001b[0;32mIn[69], line 1\u001b[0m\n\u001b[0;32m----> 1\u001b[0m vector_store\u001b[38;5;241m.\u001b[39madd_documents(documents\u001b[38;5;241m=\u001b[39mfinal_doc)\n",
      "File \u001b[0;32m~/anaconda3/lib/python3.11/site-packages/langchain/vectorstores/base.py:99\u001b[0m, in \u001b[0;36mVectorStore.add_documents\u001b[0;34m(self, documents, **kwargs)\u001b[0m\n\u001b[1;32m     90\u001b[0m \u001b[38;5;250m\u001b[39m\u001b[38;5;124;03m\"\"\"Run more documents through the embeddings and add to the vectorstore.\u001b[39;00m\n\u001b[1;32m     91\u001b[0m \n\u001b[1;32m     92\u001b[0m \u001b[38;5;124;03mArgs:\u001b[39;00m\n\u001b[0;32m   (...)\u001b[0m\n\u001b[1;32m     96\u001b[0m \u001b[38;5;124;03m    List[str]: List of IDs of the added texts.\u001b[39;00m\n\u001b[1;32m     97\u001b[0m \u001b[38;5;124;03m\"\"\"\u001b[39;00m\n\u001b[1;32m     98\u001b[0m \u001b[38;5;66;03m# TODO: Handle the case where the user doesn't provide ids on the Collection\u001b[39;00m\n\u001b[0;32m---> 99\u001b[0m texts \u001b[38;5;241m=\u001b[39m [doc\u001b[38;5;241m.\u001b[39mpage_content \u001b[38;5;28;01mfor\u001b[39;00m doc \u001b[38;5;129;01min\u001b[39;00m documents]\n\u001b[1;32m    100\u001b[0m metadatas \u001b[38;5;241m=\u001b[39m [doc\u001b[38;5;241m.\u001b[39mmetadata \u001b[38;5;28;01mfor\u001b[39;00m doc \u001b[38;5;129;01min\u001b[39;00m documents]\n\u001b[1;32m    101\u001b[0m \u001b[38;5;28;01mreturn\u001b[39;00m \u001b[38;5;28mself\u001b[39m\u001b[38;5;241m.\u001b[39madd_texts(texts, metadatas, \u001b[38;5;241m*\u001b[39m\u001b[38;5;241m*\u001b[39mkwargs)\n",
      "File \u001b[0;32m~/anaconda3/lib/python3.11/site-packages/langchain/vectorstores/base.py:99\u001b[0m, in \u001b[0;36m<listcomp>\u001b[0;34m(.0)\u001b[0m\n\u001b[1;32m     90\u001b[0m \u001b[38;5;250m\u001b[39m\u001b[38;5;124;03m\"\"\"Run more documents through the embeddings and add to the vectorstore.\u001b[39;00m\n\u001b[1;32m     91\u001b[0m \n\u001b[1;32m     92\u001b[0m \u001b[38;5;124;03mArgs:\u001b[39;00m\n\u001b[0;32m   (...)\u001b[0m\n\u001b[1;32m     96\u001b[0m \u001b[38;5;124;03m    List[str]: List of IDs of the added texts.\u001b[39;00m\n\u001b[1;32m     97\u001b[0m \u001b[38;5;124;03m\"\"\"\u001b[39;00m\n\u001b[1;32m     98\u001b[0m \u001b[38;5;66;03m# TODO: Handle the case where the user doesn't provide ids on the Collection\u001b[39;00m\n\u001b[0;32m---> 99\u001b[0m texts \u001b[38;5;241m=\u001b[39m [doc\u001b[38;5;241m.\u001b[39mpage_content \u001b[38;5;28;01mfor\u001b[39;00m doc \u001b[38;5;129;01min\u001b[39;00m documents]\n\u001b[1;32m    100\u001b[0m metadatas \u001b[38;5;241m=\u001b[39m [doc\u001b[38;5;241m.\u001b[39mmetadata \u001b[38;5;28;01mfor\u001b[39;00m doc \u001b[38;5;129;01min\u001b[39;00m documents]\n\u001b[1;32m    101\u001b[0m \u001b[38;5;28;01mreturn\u001b[39;00m \u001b[38;5;28mself\u001b[39m\u001b[38;5;241m.\u001b[39madd_texts(texts, metadatas, \u001b[38;5;241m*\u001b[39m\u001b[38;5;241m*\u001b[39mkwargs)\n",
      "\u001b[0;31mAttributeError\u001b[0m: 'dict' object has no attribute 'page_content'"
     ]
    }
   ],
   "source": [
    "vector_store.add_documents(documents=final_doc)"
   ]
  },
  {
   "cell_type": "code",
   "execution_count": 64,
   "id": "88ef7d7d",
   "metadata": {},
   "outputs": [],
   "source": [
    "aag_vector_store = setup_vector_store(AZURE_SEARCH_SERVICE_ENDPOINT, AZURE_SEARCH_ADMIN_KEY,\n",
    "                                      AZURE_SEARCH_INDEX_NAME, embeddings,)"
   ]
  },
  {
   "cell_type": "code",
   "execution_count": 62,
   "id": "dcd82cba",
   "metadata": {},
   "outputs": [
    {
     "ename": "AttributeError",
     "evalue": "'dict' object has no attribute 'page_content'",
     "output_type": "error",
     "traceback": [
      "\u001b[0;31m---------------------------------------------------------------------------\u001b[0m",
      "\u001b[0;31mAttributeError\u001b[0m                            Traceback (most recent call last)",
      "Cell \u001b[0;32mIn[62], line 1\u001b[0m\n\u001b[0;32m----> 1\u001b[0m vector_store\u001b[38;5;241m.\u001b[39madd_documents(documents\u001b[38;5;241m=\u001b[39mdict_data)\n",
      "File \u001b[0;32m~/anaconda3/lib/python3.11/site-packages/langchain/vectorstores/base.py:99\u001b[0m, in \u001b[0;36mVectorStore.add_documents\u001b[0;34m(self, documents, **kwargs)\u001b[0m\n\u001b[1;32m     90\u001b[0m \u001b[38;5;250m\u001b[39m\u001b[38;5;124;03m\"\"\"Run more documents through the embeddings and add to the vectorstore.\u001b[39;00m\n\u001b[1;32m     91\u001b[0m \n\u001b[1;32m     92\u001b[0m \u001b[38;5;124;03mArgs:\u001b[39;00m\n\u001b[0;32m   (...)\u001b[0m\n\u001b[1;32m     96\u001b[0m \u001b[38;5;124;03m    List[str]: List of IDs of the added texts.\u001b[39;00m\n\u001b[1;32m     97\u001b[0m \u001b[38;5;124;03m\"\"\"\u001b[39;00m\n\u001b[1;32m     98\u001b[0m \u001b[38;5;66;03m# TODO: Handle the case where the user doesn't provide ids on the Collection\u001b[39;00m\n\u001b[0;32m---> 99\u001b[0m texts \u001b[38;5;241m=\u001b[39m [doc\u001b[38;5;241m.\u001b[39mpage_content \u001b[38;5;28;01mfor\u001b[39;00m doc \u001b[38;5;129;01min\u001b[39;00m documents]\n\u001b[1;32m    100\u001b[0m metadatas \u001b[38;5;241m=\u001b[39m [doc\u001b[38;5;241m.\u001b[39mmetadata \u001b[38;5;28;01mfor\u001b[39;00m doc \u001b[38;5;129;01min\u001b[39;00m documents]\n\u001b[1;32m    101\u001b[0m \u001b[38;5;28;01mreturn\u001b[39;00m \u001b[38;5;28mself\u001b[39m\u001b[38;5;241m.\u001b[39madd_texts(texts, metadatas, \u001b[38;5;241m*\u001b[39m\u001b[38;5;241m*\u001b[39mkwargs)\n",
      "File \u001b[0;32m~/anaconda3/lib/python3.11/site-packages/langchain/vectorstores/base.py:99\u001b[0m, in \u001b[0;36m<listcomp>\u001b[0;34m(.0)\u001b[0m\n\u001b[1;32m     90\u001b[0m \u001b[38;5;250m\u001b[39m\u001b[38;5;124;03m\"\"\"Run more documents through the embeddings and add to the vectorstore.\u001b[39;00m\n\u001b[1;32m     91\u001b[0m \n\u001b[1;32m     92\u001b[0m \u001b[38;5;124;03mArgs:\u001b[39;00m\n\u001b[0;32m   (...)\u001b[0m\n\u001b[1;32m     96\u001b[0m \u001b[38;5;124;03m    List[str]: List of IDs of the added texts.\u001b[39;00m\n\u001b[1;32m     97\u001b[0m \u001b[38;5;124;03m\"\"\"\u001b[39;00m\n\u001b[1;32m     98\u001b[0m \u001b[38;5;66;03m# TODO: Handle the case where the user doesn't provide ids on the Collection\u001b[39;00m\n\u001b[0;32m---> 99\u001b[0m texts \u001b[38;5;241m=\u001b[39m [doc\u001b[38;5;241m.\u001b[39mpage_content \u001b[38;5;28;01mfor\u001b[39;00m doc \u001b[38;5;129;01min\u001b[39;00m documents]\n\u001b[1;32m    100\u001b[0m metadatas \u001b[38;5;241m=\u001b[39m [doc\u001b[38;5;241m.\u001b[39mmetadata \u001b[38;5;28;01mfor\u001b[39;00m doc \u001b[38;5;129;01min\u001b[39;00m documents]\n\u001b[1;32m    101\u001b[0m \u001b[38;5;28;01mreturn\u001b[39;00m \u001b[38;5;28mself\u001b[39m\u001b[38;5;241m.\u001b[39madd_texts(texts, metadatas, \u001b[38;5;241m*\u001b[39m\u001b[38;5;241m*\u001b[39mkwargs)\n",
      "\u001b[0;31mAttributeError\u001b[0m: 'dict' object has no attribute 'page_content'"
     ]
    }
   ],
   "source": [
    "vector_store.add_documents(documents=dict_data)"
   ]
  },
  {
   "cell_type": "code",
   "execution_count": null,
   "id": "033e41c0",
   "metadata": {},
   "outputs": [],
   "source": []
  },
  {
   "cell_type": "code",
   "execution_count": null,
   "id": "99bd4774",
   "metadata": {},
   "outputs": [],
   "source": []
  },
  {
   "cell_type": "code",
   "execution_count": null,
   "id": "0431861f",
   "metadata": {},
   "outputs": [],
   "source": [
    "# Pure Vector Search\n",
    "query = \"software\"  \n",
    "\n",
    "\n",
    "# Create a Vector object with the embeddings result\n",
    "vector = Vector(value=embeddings_result, k=3, fields=\"contentVector\")\n",
    "\n",
    "results = search_client_v2.search(  \n",
    "    search_text=None,  \n",
    "    vectors=[vector],\n",
    "    select=[\"id\", \"page_content\", \"page_number\"],\n",
    ")  \n",
    "\n",
    "for result in results:  \n",
    "    print(f\"Title: {result['id']}\")  \n",
    "    print(f\"Score: {result['@search.score']}\")  \n",
    "    print(f\"Content: {result['page_content']}\")  \n",
    "    print(f\"Category: {result['page_number']}\\n\")\n"
   ]
  },
  {
   "cell_type": "code",
   "execution_count": 40,
   "id": "7a784575",
   "metadata": {},
   "outputs": [],
   "source": [
    "# Pure Vector Search\n",
    "query = \"software\"  \n",
    "  \n",
    "#search_client = SearchClient(service_endpoint, index_name, credential=credential)\n",
    "vector = Vector(value=content_embeddings, k=3, fields=\"contentVector\")\n",
    "  \n",
    "results = search_client_v2.search(  \n",
    "    search_text=None,  \n",
    "    vectors= [vector],\n",
    "    select=[\"id\", \"page_content\", \"page_number\"],\n",
    ")  \n",
    "  \n",
    "for result in results:  \n",
    "    print(f\"Title: {result['id']}\")  \n",
    "    print(f\"Score: {result['@search.score']}\")  \n",
    "    print(f\"Content: {result['page_content']}\")  \n",
    "    print(f\"Category: {result['page_number']}\\n\")  "
   ]
  },
  {
   "cell_type": "code",
   "execution_count": 41,
   "id": "78426a39",
   "metadata": {},
   "outputs": [
    {
     "data": {
      "text/plain": [
       "<iterator object azure.core.paging.ItemPaged at 0x133189910>"
      ]
     },
     "execution_count": 41,
     "metadata": {},
     "output_type": "execute_result"
    }
   ],
   "source": [
    "results"
   ]
  },
  {
   "cell_type": "code",
   "execution_count": null,
   "id": "86d68bb0",
   "metadata": {},
   "outputs": [],
   "source": [
    "dict_data"
   ]
  },
  {
   "cell_type": "code",
   "execution_count": null,
   "id": "2f70bff7",
   "metadata": {},
   "outputs": [],
   "source": [
    "# Convert the dictionary to a JSON string\n",
    "input_data = json.dumps(dict_data)\n",
    "\n",
    "# json_string contains the JSON representation of the dictionary\n",
    "#print(input_data)"
   ]
  },
  {
   "cell_type": "code",
   "execution_count": null,
   "id": "dd307af7",
   "metadata": {},
   "outputs": [],
   "source": [
    "embeddings = OpenAIEmbeddings(deployment = model,chunk_size=1)\n",
    "#@retry(wait=wait_random_exponential(min=1, max=20), stop=stop_after_attempt(6))\n",
    "# Function to generate embeddings for title and content fields, also used for query embeddings\n",
    "def generate_embeddings(text):\n",
    "    response = openai.Embedding.create(\n",
    "        input=text, engine=\"text-embedding-ada-002\")\n",
    "    embeddings = response['data'][0]['embedding']\n",
    "    return embeddings\n",
    "\n",
    "# Generate embeddings for title and content fields\n",
    "for item in dict_data:\n",
    "    title = item['id']\n",
    "    content = item['page_content']\n",
    "    title_embeddings = embeddings.embed_query(title)\n",
    "    content_embeddings = embeddings.embed_query(content)\n",
    "    item['titleVector'] = title_embeddings\n",
    "    item['contentVector'] = content_embeddings\n"
   ]
  },
  {
   "cell_type": "code",
   "execution_count": null,
   "id": "201b5856",
   "metadata": {},
   "outputs": [],
   "source": [
    "# Create a search index\n",
    "index_client = SearchClient(endpoint=AZURE_SEARCH_SERVICE_ENDPOINT, index_name=AZURE_SEARCH_INDEX_NAME, credential=credential)\n",
    "search_client = SearchIndexClient(endpoint=AZURE_SEARCH_SERVICE_ENDPOINT, credential=credential)\n",
    "\n",
    "fields = [\n",
    "    SimpleField(name=\"id\", type=SearchFieldDataType.String, key=True, sortable=True, filterable=True, facetable=True),\n",
    "    SearchableField(name=\"page_content\", type=SearchFieldDataType.String),\n",
    "    SearchField(name=\"titleVector\", type=SearchFieldDataType.Collection(SearchFieldDataType.Single),\n",
    "                searchable=True, vector_search_dimensions=1536, vector_search_configuration=\"my-vector-config\"),\n",
    "    SearchField(name=\"contentVector\", type=SearchFieldDataType.Collection(SearchFieldDataType.Single),\n",
    "                searchable=True, vector_search_dimensions=1536, vector_search_configuration=\"my-vector-config\"),\n",
    "]\n",
    "\n",
    "vector_search = VectorSearch(\n",
    "    algorithm_configurations=[\n",
    "        HnswVectorSearchAlgorithmConfiguration(\n",
    "            name=\"my-vector-config\",\n",
    "            kind=\"hnsw\",\n",
    "            parameters={\n",
    "                \"m\": 4,\n",
    "                \"efConstruction\": 400,\n",
    "                \"efSearch\": 500,\n",
    "                \"metric\": \"cosine\"\n",
    "            }\n",
    "        )\n",
    "    ]\n",
    ")\n",
    "\n",
    "semantic_config = SemanticConfiguration(\n",
    "    name=\"my-semantic-config\",\n",
    "    prioritized_fields=PrioritizedFields(\n",
    "        title_field=SemanticField(field_name=\"title\"),\n",
    "        prioritized_content_fields=[SemanticField(field_name=\"content\")]\n",
    "    )\n",
    ")\n",
    "\n",
    "# Create the semantic settings with the configuration\n",
    "semantic_settings = SemanticSettings(configurations=[semantic_config])\n",
    "\n",
    "\n",
    "# Create the search index with the semantic settings\n",
    "index = SearchIndex(name=AZURE_SEARCH_INDEX_NAME, fields=fields,\n",
    "                    vector_search=vector_search, semantic_settings=semantic_settings)\n",
    "result = search_client.create_or_update_index(index)\n",
    "print(f' {result.name} created')"
   ]
  },
  {
   "cell_type": "code",
   "execution_count": null,
   "id": "0b45e06d",
   "metadata": {},
   "outputs": [],
   "source": []
  }
 ],
 "metadata": {
  "kernelspec": {
   "display_name": "Python 3 (ipykernel)",
   "language": "python",
   "name": "python3"
  },
  "language_info": {
   "codemirror_mode": {
    "name": "ipython",
    "version": 3
   },
   "file_extension": ".py",
   "mimetype": "text/x-python",
   "name": "python",
   "nbconvert_exporter": "python",
   "pygments_lexer": "ipython3",
   "version": "3.11.4"
  }
 },
 "nbformat": 4,
 "nbformat_minor": 5
}
