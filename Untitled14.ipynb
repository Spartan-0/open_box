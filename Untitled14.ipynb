{
 "cells": [
  {
   "cell_type": "code",
   "execution_count": 1,
   "id": "41838f90",
   "metadata": {},
   "outputs": [
    {
     "name": "stdout",
     "output_type": "stream",
     "text": [
      "Requirement already satisfied: PyMuPDF in ./anaconda3/lib/python3.11/site-packages (1.23.5)\n",
      "Requirement already satisfied: PyMuPDFb==1.23.5 in ./anaconda3/lib/python3.11/site-packages (from PyMuPDF) (1.23.5)\n",
      "Note: you may need to restart the kernel to use updated packages.\n"
     ]
    }
   ],
   "source": [
    "pip install PyMuPDF"
   ]
  },
  {
   "cell_type": "code",
   "execution_count": null,
   "id": "5bda5377",
   "metadata": {},
   "outputs": [],
   "source": [
    "import fitz  # PyMuPDF\n",
    "import io\n",
    "from PIL import Image\n",
    "\n",
    "# Path to the PDF file\n",
    "pdf_file_path = 'CSMVol2_PaxService.pdf'\n",
    "\n",
    "# Open the PDF file\n",
    "pdf_document = fitz.open(pdf_file_path)\n",
    "\n",
    "# Iterate through each page in the PDF\n",
    "for page_number in range(len(pdf_document)):\n",
    "    page = pdf_document.load_page(page_number)\n",
    "    image_list = page.get_images(full=True)\n",
    "\n",
    "    for img_index, img in enumerate(image_list):\n",
    "        xref = img[0]\n",
    "        base_image = pdf_document.extract_image(xref)\n",
    "        image_data = base_image[\"image\"]\n",
    "\n",
    "        # Convert the image data to a PIL image\n",
    "        image = Image.open(io.BytesIO(image_data))\n",
    "\n",
    "        # Save the image as a file (adjust the filename as needed)\n",
    "        image.save(f\"page_{page_number + 1}_img_{img_index + 1}.png\", \"PNG\")\n",
    "\n",
    "# Close the PDF document\n",
    "pdf_document.close()\n"
   ]
  },
  {
   "cell_type": "code",
   "execution_count": null,
   "id": "bf137c7a",
   "metadata": {},
   "outputs": [],
   "source": []
  }
 ],
 "metadata": {
  "kernelspec": {
   "display_name": "Python 3 (ipykernel)",
   "language": "python",
   "name": "python3"
  },
  "language_info": {
   "codemirror_mode": {
    "name": "ipython",
    "version": 3
   },
   "file_extension": ".py",
   "mimetype": "text/x-python",
   "name": "python",
   "nbconvert_exporter": "python",
   "pygments_lexer": "ipython3",
   "version": "3.11.4"
  }
 },
 "nbformat": 4,
 "nbformat_minor": 5
}
